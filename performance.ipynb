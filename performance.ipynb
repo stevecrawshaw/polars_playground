{
 "cells": [
  {
   "cell_type": "code",
   "execution_count": 1,
   "metadata": {},
   "outputs": [],
   "source": [
    "import polars as pl"
   ]
  },
  {
   "cell_type": "code",
   "execution_count": 2,
   "metadata": {},
   "outputs": [],
   "source": [
    "path = 'data/2024-01_sds011.csv'"
   ]
  },
  {
   "cell_type": "code",
   "execution_count": 5,
   "metadata": {},
   "outputs": [],
   "source": [
    "raw_df = pl.scan_csv(path,\n",
    "            null_values = [' ', 'unavailable', 'unknown', 'b'],\n",
    "            # columns = ['sensor_id', 'location', 'lat', 'lon', 'timestamp', 'P1', 'P2'],\n",
    "            separator=';',\n",
    "            ignore_errors = True,\n",
    "            schema = {\n",
    "                            'sensor_id': pl.Int64,\n",
    "                            'sensor_type': pl.Utf8,\n",
    "                            'location': pl.Utf8,\n",
    "                            'lat':pl.Float64,\n",
    "                            'lon':pl.Float64,\n",
    "                            'timestamp':pl.Datetime,\n",
    "                            'P1':pl.Float64,\n",
    "                            'durP1': pl.Float64,\n",
    "                            'ratioP1': pl.Float64,\n",
    "                            'P2':pl.Float64,\n",
    "                            'durP2': pl.Float64,\n",
    "                            'ratioP2': pl.Float64,\n",
    "                        },\n",
    "            try_parse_dates = True\n",
    "            )"
   ]
  },
  {
   "cell_type": "code",
   "execution_count": 6,
   "metadata": {},
   "outputs": [
    {
     "name": "stdout",
     "output_type": "stream",
     "text": [
      "12.9 s ± 176 ms per loop (mean ± std. dev. of 7 runs, 1 loop each)\n"
     ]
    }
   ],
   "source": [
    "%%timeit\n",
    "collected_df = raw_df.collect()"
   ]
  },
  {
   "cell_type": "code",
   "execution_count": null,
   "metadata": {},
   "outputs": [],
   "source": []
  },
  {
   "cell_type": "code",
   "execution_count": null,
   "metadata": {},
   "outputs": [],
   "source": []
  },
  {
   "cell_type": "code",
   "execution_count": null,
   "metadata": {},
   "outputs": [],
   "source": []
  }
 ],
 "metadata": {
  "kernelspec": {
   "display_name": ".venv",
   "language": "python",
   "name": "python3"
  },
  "language_info": {
   "codemirror_mode": {
    "name": "ipython",
    "version": 3
   },
   "file_extension": ".py",
   "mimetype": "text/x-python",
   "name": "python",
   "nbconvert_exporter": "python",
   "pygments_lexer": "ipython3",
   "version": "3.10.12"
  }
 },
 "nbformat": 4,
 "nbformat_minor": 2
}
