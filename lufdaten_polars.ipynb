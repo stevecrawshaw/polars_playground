{
 "cells": [
  {
   "cell_type": "markdown",
   "metadata": {},
   "source": [
    "Use uv venv. Need to uv pip install polars-lts-cpu on older machines."
   ]
  },
  {
   "cell_type": "code",
   "execution_count": 13,
   "metadata": {},
   "outputs": [
    {
     "name": "stdout",
     "output_type": "stream",
     "text": [
      "%opts magic unavailable (pyparsing cannot be imported)\n",
      "%compositor magic unavailable (pyparsing cannot be imported)\n"
     ]
    },
    {
     "data": {
      "application/javascript": "(function(root) {\n  function now() {\n    return new Date();\n  }\n\n  var force = true;\n  var py_version = '3.4.1'.replace('rc', '-rc.').replace('.dev', '-dev.');\n  var reloading = false;\n  var Bokeh = root.Bokeh;\n\n  if (typeof (root._bokeh_timeout) === \"undefined\" || force) {\n    root._bokeh_timeout = Date.now() + 5000;\n    root._bokeh_failed_load = false;\n  }\n\n  function run_callbacks() {\n    try {\n      root._bokeh_onload_callbacks.forEach(function(callback) {\n        if (callback != null)\n          callback();\n      });\n    } finally {\n      delete root._bokeh_onload_callbacks;\n    }\n    console.debug(\"Bokeh: all callbacks have finished\");\n  }\n\n  function load_libs(css_urls, js_urls, js_modules, js_exports, callback) {\n    if (css_urls == null) css_urls = [];\n    if (js_urls == null) js_urls = [];\n    if (js_modules == null) js_modules = [];\n    if (js_exports == null) js_exports = {};\n\n    root._bokeh_onload_callbacks.push(callback);\n\n    if (root._bokeh_is_loading > 0) {\n      console.debug(\"Bokeh: BokehJS is being loaded, scheduling callback at\", now());\n      return null;\n    }\n    if (js_urls.length === 0 && js_modules.length === 0 && Object.keys(js_exports).length === 0) {\n      run_callbacks();\n      return null;\n    }\n    if (!reloading) {\n      console.debug(\"Bokeh: BokehJS not loaded, scheduling load and callback at\", now());\n    }\n\n    function on_load() {\n      root._bokeh_is_loading--;\n      if (root._bokeh_is_loading === 0) {\n        console.debug(\"Bokeh: all BokehJS libraries/stylesheets loaded\");\n        run_callbacks()\n      }\n    }\n    window._bokeh_on_load = on_load\n\n    function on_error() {\n      console.error(\"failed to load \" + url);\n    }\n\n    var skip = [];\n    if (window.requirejs) {\n      window.requirejs.config({'packages': {}, 'paths': {}, 'shim': {}});\n      root._bokeh_is_loading = css_urls.length + 0;\n    } else {\n      root._bokeh_is_loading = css_urls.length + js_urls.length + js_modules.length + Object.keys(js_exports).length;\n    }\n\n    var existing_stylesheets = []\n    var links = document.getElementsByTagName('link')\n    for (var i = 0; i < links.length; i++) {\n      var link = links[i]\n      if (link.href != null) {\n\texisting_stylesheets.push(link.href)\n      }\n    }\n    for (var i = 0; i < css_urls.length; i++) {\n      var url = css_urls[i];\n      if (existing_stylesheets.indexOf(url) !== -1) {\n\ton_load()\n\tcontinue;\n      }\n      const element = document.createElement(\"link\");\n      element.onload = on_load;\n      element.onerror = on_error;\n      element.rel = \"stylesheet\";\n      element.type = \"text/css\";\n      element.href = url;\n      console.debug(\"Bokeh: injecting link tag for BokehJS stylesheet: \", url);\n      document.body.appendChild(element);\n    }    var existing_scripts = []\n    var scripts = document.getElementsByTagName('script')\n    for (var i = 0; i < scripts.length; i++) {\n      var script = scripts[i]\n      if (script.src != null) {\n\texisting_scripts.push(script.src)\n      }\n    }\n    for (var i = 0; i < js_urls.length; i++) {\n      var url = js_urls[i];\n      if (skip.indexOf(url) !== -1 || existing_scripts.indexOf(url) !== -1) {\n\tif (!window.requirejs) {\n\t  on_load();\n\t}\n\tcontinue;\n      }\n      var element = document.createElement('script');\n      element.onload = on_load;\n      element.onerror = on_error;\n      element.async = false;\n      element.src = url;\n      console.debug(\"Bokeh: injecting script tag for BokehJS library: \", url);\n      document.head.appendChild(element);\n    }\n    for (var i = 0; i < js_modules.length; i++) {\n      var url = js_modules[i];\n      if (skip.indexOf(url) !== -1 || existing_scripts.indexOf(url) !== -1) {\n\tif (!window.requirejs) {\n\t  on_load();\n\t}\n\tcontinue;\n      }\n      var element = document.createElement('script');\n      element.onload = on_load;\n      element.onerror = on_error;\n      element.async = false;\n      element.src = url;\n      element.type = \"module\";\n      console.debug(\"Bokeh: injecting script tag for BokehJS library: \", url);\n      document.head.appendChild(element);\n    }\n    for (const name in js_exports) {\n      var url = js_exports[name];\n      if (skip.indexOf(url) >= 0 || root[name] != null) {\n\tif (!window.requirejs) {\n\t  on_load();\n\t}\n\tcontinue;\n      }\n      var element = document.createElement('script');\n      element.onerror = on_error;\n      element.async = false;\n      element.type = \"module\";\n      console.debug(\"Bokeh: injecting script tag for BokehJS library: \", url);\n      element.textContent = `\n      import ${name} from \"${url}\"\n      window.${name} = ${name}\n      window._bokeh_on_load()\n      `\n      document.head.appendChild(element);\n    }\n    if (!js_urls.length && !js_modules.length) {\n      on_load()\n    }\n  };\n\n  function inject_raw_css(css) {\n    const element = document.createElement(\"style\");\n    element.appendChild(document.createTextNode(css));\n    document.body.appendChild(element);\n  }\n\n  var js_urls = [\"https://cdn.bokeh.org/bokeh/release/bokeh-3.4.1.min.js\", \"https://cdn.bokeh.org/bokeh/release/bokeh-gl-3.4.1.min.js\", \"https://cdn.bokeh.org/bokeh/release/bokeh-widgets-3.4.1.min.js\", \"https://cdn.bokeh.org/bokeh/release/bokeh-tables-3.4.1.min.js\", \"https://cdn.holoviz.org/panel/1.4.4/dist/panel.min.js\"];\n  var js_modules = [];\n  var js_exports = {};\n  var css_urls = [];\n  var inline_js = [    function(Bokeh) {\n      Bokeh.set_log_level(\"info\");\n    },\nfunction(Bokeh) {} // ensure no trailing comma for IE\n  ];\n\n  function run_inline_js() {\n    if ((root.Bokeh !== undefined) || (force === true)) {\n      for (var i = 0; i < inline_js.length; i++) {\n\ttry {\n          inline_js[i].call(root, root.Bokeh);\n\t} catch(e) {\n\t  if (!reloading) {\n\t    throw e;\n\t  }\n\t}\n      }\n      // Cache old bokeh versions\n      if (Bokeh != undefined && !reloading) {\n\tvar NewBokeh = root.Bokeh;\n\tif (Bokeh.versions === undefined) {\n\t  Bokeh.versions = new Map();\n\t}\n\tif (NewBokeh.version !== Bokeh.version) {\n\t  Bokeh.versions.set(NewBokeh.version, NewBokeh)\n\t}\n\troot.Bokeh = Bokeh;\n      }} else if (Date.now() < root._bokeh_timeout) {\n      setTimeout(run_inline_js, 100);\n    } else if (!root._bokeh_failed_load) {\n      console.log(\"Bokeh: BokehJS failed to load within specified timeout.\");\n      root._bokeh_failed_load = true;\n    }\n    root._bokeh_is_initializing = false\n  }\n\n  function load_or_wait() {\n    // Implement a backoff loop that tries to ensure we do not load multiple\n    // versions of Bokeh and its dependencies at the same time.\n    // In recent versions we use the root._bokeh_is_initializing flag\n    // to determine whether there is an ongoing attempt to initialize\n    // bokeh, however for backward compatibility we also try to ensure\n    // that we do not start loading a newer (Panel>=1.0 and Bokeh>3) version\n    // before older versions are fully initialized.\n    if (root._bokeh_is_initializing && Date.now() > root._bokeh_timeout) {\n      root._bokeh_is_initializing = false;\n      root._bokeh_onload_callbacks = undefined;\n      console.log(\"Bokeh: BokehJS was loaded multiple times but one version failed to initialize.\");\n      load_or_wait();\n    } else if (root._bokeh_is_initializing || (typeof root._bokeh_is_initializing === \"undefined\" && root._bokeh_onload_callbacks !== undefined)) {\n      setTimeout(load_or_wait, 100);\n    } else {\n      root._bokeh_is_initializing = true\n      root._bokeh_onload_callbacks = []\n      var bokeh_loaded = Bokeh != null && (Bokeh.version === py_version || (Bokeh.versions !== undefined && Bokeh.versions.has(py_version)));\n      if (!reloading && !bokeh_loaded) {\n\troot.Bokeh = undefined;\n      }\n      load_libs(css_urls, js_urls, js_modules, js_exports, function() {\n\tconsole.debug(\"Bokeh: BokehJS plotting callback run at\", now());\n\trun_inline_js();\n      });\n    }\n  }\n  // Give older versions of the autoload script a head-start to ensure\n  // they initialize before we start loading newer version.\n  setTimeout(load_or_wait, 100)\n}(window));",
      "application/vnd.holoviews_load.v0+json": ""
     },
     "metadata": {},
     "output_type": "display_data"
    },
    {
     "data": {
      "application/javascript": "\nif ((window.PyViz === undefined) || (window.PyViz instanceof HTMLElement)) {\n  window.PyViz = {comms: {}, comm_status:{}, kernels:{}, receivers: {}, plot_index: []}\n}\n\n\n    function JupyterCommManager() {\n    }\n\n    JupyterCommManager.prototype.register_target = function(plot_id, comm_id, msg_handler) {\n      if (window.comm_manager || ((window.Jupyter !== undefined) && (Jupyter.notebook.kernel != null))) {\n        var comm_manager = window.comm_manager || Jupyter.notebook.kernel.comm_manager;\n        comm_manager.register_target(comm_id, function(comm) {\n          comm.on_msg(msg_handler);\n        });\n      } else if ((plot_id in window.PyViz.kernels) && (window.PyViz.kernels[plot_id])) {\n        window.PyViz.kernels[plot_id].registerCommTarget(comm_id, function(comm) {\n          comm.onMsg = msg_handler;\n        });\n      } else if (typeof google != 'undefined' && google.colab.kernel != null) {\n        google.colab.kernel.comms.registerTarget(comm_id, (comm) => {\n          var messages = comm.messages[Symbol.asyncIterator]();\n          function processIteratorResult(result) {\n            var message = result.value;\n            console.log(message)\n            var content = {data: message.data, comm_id};\n            var buffers = []\n            for (var buffer of message.buffers || []) {\n              buffers.push(new DataView(buffer))\n            }\n            var metadata = message.metadata || {};\n            var msg = {content, buffers, metadata}\n            msg_handler(msg);\n            return messages.next().then(processIteratorResult);\n          }\n          return messages.next().then(processIteratorResult);\n        })\n      }\n    }\n\n    JupyterCommManager.prototype.get_client_comm = function(plot_id, comm_id, msg_handler) {\n      if (comm_id in window.PyViz.comms) {\n        return window.PyViz.comms[comm_id];\n      } else if (window.comm_manager || ((window.Jupyter !== undefined) && (Jupyter.notebook.kernel != null))) {\n        var comm_manager = window.comm_manager || Jupyter.notebook.kernel.comm_manager;\n        var comm = comm_manager.new_comm(comm_id, {}, {}, {}, comm_id);\n        if (msg_handler) {\n          comm.on_msg(msg_handler);\n        }\n      } else if ((plot_id in window.PyViz.kernels) && (window.PyViz.kernels[plot_id])) {\n        var comm = window.PyViz.kernels[plot_id].connectToComm(comm_id);\n        comm.open();\n        if (msg_handler) {\n          comm.onMsg = msg_handler;\n        }\n      } else if (typeof google != 'undefined' && google.colab.kernel != null) {\n        var comm_promise = google.colab.kernel.comms.open(comm_id)\n        comm_promise.then((comm) => {\n          window.PyViz.comms[comm_id] = comm;\n          if (msg_handler) {\n            var messages = comm.messages[Symbol.asyncIterator]();\n            function processIteratorResult(result) {\n              var message = result.value;\n              var content = {data: message.data};\n              var metadata = message.metadata || {comm_id};\n              var msg = {content, metadata}\n              msg_handler(msg);\n              return messages.next().then(processIteratorResult);\n            }\n            return messages.next().then(processIteratorResult);\n          }\n        }) \n        var sendClosure = (data, metadata, buffers, disposeOnDone) => {\n          return comm_promise.then((comm) => {\n            comm.send(data, metadata, buffers, disposeOnDone);\n          });\n        };\n        var comm = {\n          send: sendClosure\n        };\n      }\n      window.PyViz.comms[comm_id] = comm;\n      return comm;\n    }\n    window.PyViz.comm_manager = new JupyterCommManager();\n    \n\n\nvar JS_MIME_TYPE = 'application/javascript';\nvar HTML_MIME_TYPE = 'text/html';\nvar EXEC_MIME_TYPE = 'application/vnd.holoviews_exec.v0+json';\nvar CLASS_NAME = 'output';\n\n/**\n * Render data to the DOM node\n */\nfunction render(props, node) {\n  var div = document.createElement(\"div\");\n  var script = document.createElement(\"script\");\n  node.appendChild(div);\n  node.appendChild(script);\n}\n\n/**\n * Handle when a new output is added\n */\nfunction handle_add_output(event, handle) {\n  var output_area = handle.output_area;\n  var output = handle.output;\n  if ((output.data == undefined) || (!output.data.hasOwnProperty(EXEC_MIME_TYPE))) {\n    return\n  }\n  var id = output.metadata[EXEC_MIME_TYPE][\"id\"];\n  var toinsert = output_area.element.find(\".\" + CLASS_NAME.split(' ')[0]);\n  if (id !== undefined) {\n    var nchildren = toinsert.length;\n    var html_node = toinsert[nchildren-1].children[0];\n    html_node.innerHTML = output.data[HTML_MIME_TYPE];\n    var scripts = [];\n    var nodelist = html_node.querySelectorAll(\"script\");\n    for (var i in nodelist) {\n      if (nodelist.hasOwnProperty(i)) {\n        scripts.push(nodelist[i])\n      }\n    }\n\n    scripts.forEach( function (oldScript) {\n      var newScript = document.createElement(\"script\");\n      var attrs = [];\n      var nodemap = oldScript.attributes;\n      for (var j in nodemap) {\n        if (nodemap.hasOwnProperty(j)) {\n          attrs.push(nodemap[j])\n        }\n      }\n      attrs.forEach(function(attr) { newScript.setAttribute(attr.name, attr.value) });\n      newScript.appendChild(document.createTextNode(oldScript.innerHTML));\n      oldScript.parentNode.replaceChild(newScript, oldScript);\n    });\n    if (JS_MIME_TYPE in output.data) {\n      toinsert[nchildren-1].children[1].textContent = output.data[JS_MIME_TYPE];\n    }\n    output_area._hv_plot_id = id;\n    if ((window.Bokeh !== undefined) && (id in Bokeh.index)) {\n      window.PyViz.plot_index[id] = Bokeh.index[id];\n    } else {\n      window.PyViz.plot_index[id] = null;\n    }\n  } else if (output.metadata[EXEC_MIME_TYPE][\"server_id\"] !== undefined) {\n    var bk_div = document.createElement(\"div\");\n    bk_div.innerHTML = output.data[HTML_MIME_TYPE];\n    var script_attrs = bk_div.children[0].attributes;\n    for (var i = 0; i < script_attrs.length; i++) {\n      toinsert[toinsert.length - 1].childNodes[1].setAttribute(script_attrs[i].name, script_attrs[i].value);\n    }\n    // store reference to server id on output_area\n    output_area._bokeh_server_id = output.metadata[EXEC_MIME_TYPE][\"server_id\"];\n  }\n}\n\n/**\n * Handle when an output is cleared or removed\n */\nfunction handle_clear_output(event, handle) {\n  var id = handle.cell.output_area._hv_plot_id;\n  var server_id = handle.cell.output_area._bokeh_server_id;\n  if (((id === undefined) || !(id in PyViz.plot_index)) && (server_id !== undefined)) { return; }\n  var comm = window.PyViz.comm_manager.get_client_comm(\"hv-extension-comm\", \"hv-extension-comm\", function () {});\n  if (server_id !== null) {\n    comm.send({event_type: 'server_delete', 'id': server_id});\n    return;\n  } else if (comm !== null) {\n    comm.send({event_type: 'delete', 'id': id});\n  }\n  delete PyViz.plot_index[id];\n  if ((window.Bokeh !== undefined) & (id in window.Bokeh.index)) {\n    var doc = window.Bokeh.index[id].model.document\n    doc.clear();\n    const i = window.Bokeh.documents.indexOf(doc);\n    if (i > -1) {\n      window.Bokeh.documents.splice(i, 1);\n    }\n  }\n}\n\n/**\n * Handle kernel restart event\n */\nfunction handle_kernel_cleanup(event, handle) {\n  delete PyViz.comms[\"hv-extension-comm\"];\n  window.PyViz.plot_index = {}\n}\n\n/**\n * Handle update_display_data messages\n */\nfunction handle_update_output(event, handle) {\n  handle_clear_output(event, {cell: {output_area: handle.output_area}})\n  handle_add_output(event, handle)\n}\n\nfunction register_renderer(events, OutputArea) {\n  function append_mime(data, metadata, element) {\n    // create a DOM node to render to\n    var toinsert = this.create_output_subarea(\n    metadata,\n    CLASS_NAME,\n    EXEC_MIME_TYPE\n    );\n    this.keyboard_manager.register_events(toinsert);\n    // Render to node\n    var props = {data: data, metadata: metadata[EXEC_MIME_TYPE]};\n    render(props, toinsert[0]);\n    element.append(toinsert);\n    return toinsert\n  }\n\n  events.on('output_added.OutputArea', handle_add_output);\n  events.on('output_updated.OutputArea', handle_update_output);\n  events.on('clear_output.CodeCell', handle_clear_output);\n  events.on('delete.Cell', handle_clear_output);\n  events.on('kernel_ready.Kernel', handle_kernel_cleanup);\n\n  OutputArea.prototype.register_mime_type(EXEC_MIME_TYPE, append_mime, {\n    safe: true,\n    index: 0\n  });\n}\n\nif (window.Jupyter !== undefined) {\n  try {\n    var events = require('base/js/events');\n    var OutputArea = require('notebook/js/outputarea').OutputArea;\n    if (OutputArea.prototype.mime_types().indexOf(EXEC_MIME_TYPE) == -1) {\n      register_renderer(events, OutputArea);\n    }\n  } catch(err) {\n  }\n}\n",
      "application/vnd.holoviews_load.v0+json": ""
     },
     "metadata": {},
     "output_type": "display_data"
    },
    {
     "data": {
      "text/html": [
       "<style>*[data-root-id],\n",
       "*[data-root-id] > * {\n",
       "  box-sizing: border-box;\n",
       "  font-family: var(--jp-ui-font-family);\n",
       "  font-size: var(--jp-ui-font-size1);\n",
       "  color: var(--vscode-editor-foreground, var(--jp-ui-font-color1));\n",
       "}\n",
       "\n",
       "/* Override VSCode background color */\n",
       ".cell-output-ipywidget-background:has(\n",
       "    > .cell-output-ipywidget-background > .lm-Widget > *[data-root-id]\n",
       "  ),\n",
       ".cell-output-ipywidget-background:has(> .lm-Widget > *[data-root-id]) {\n",
       "  background-color: transparent !important;\n",
       "}\n",
       "</style>"
      ]
     },
     "metadata": {},
     "output_type": "display_data"
    },
    {
     "data": {
      "application/vnd.holoviews_exec.v0+json": "",
      "text/html": [
       "<div id='p1002'>\n",
       "  <div id=\"df316594-1ae8-4b13-b675-c11af81c9850\" data-root-id=\"p1002\" style=\"display: contents;\"></div>\n",
       "</div>\n",
       "<script type=\"application/javascript\">(function(root) {\n",
       "  var docs_json = {\"2f6f01a1-6f12-441d-b012-7155e18729e3\":{\"version\":\"3.4.1\",\"title\":\"Bokeh Application\",\"roots\":[{\"type\":\"object\",\"name\":\"panel.models.browser.BrowserInfo\",\"id\":\"p1002\"},{\"type\":\"object\",\"name\":\"panel.models.comm_manager.CommManager\",\"id\":\"p1003\",\"attributes\":{\"plot_id\":\"p1002\",\"comm_id\":\"c803c85a3518446bb4ae4f695d34be6b\",\"client_comm_id\":\"7601faee42fc4608be58e2c7c9d94db8\"}}],\"defs\":[{\"type\":\"model\",\"name\":\"ReactiveHTML1\"},{\"type\":\"model\",\"name\":\"FlexBox1\",\"properties\":[{\"name\":\"align_content\",\"kind\":\"Any\",\"default\":\"flex-start\"},{\"name\":\"align_items\",\"kind\":\"Any\",\"default\":\"flex-start\"},{\"name\":\"flex_direction\",\"kind\":\"Any\",\"default\":\"row\"},{\"name\":\"flex_wrap\",\"kind\":\"Any\",\"default\":\"wrap\"},{\"name\":\"gap\",\"kind\":\"Any\",\"default\":\"\"},{\"name\":\"justify_content\",\"kind\":\"Any\",\"default\":\"flex-start\"}]},{\"type\":\"model\",\"name\":\"FloatPanel1\",\"properties\":[{\"name\":\"config\",\"kind\":\"Any\",\"default\":{\"type\":\"map\"}},{\"name\":\"contained\",\"kind\":\"Any\",\"default\":true},{\"name\":\"position\",\"kind\":\"Any\",\"default\":\"right-top\"},{\"name\":\"offsetx\",\"kind\":\"Any\",\"default\":null},{\"name\":\"offsety\",\"kind\":\"Any\",\"default\":null},{\"name\":\"theme\",\"kind\":\"Any\",\"default\":\"primary\"},{\"name\":\"status\",\"kind\":\"Any\",\"default\":\"normalized\"}]},{\"type\":\"model\",\"name\":\"GridStack1\",\"properties\":[{\"name\":\"mode\",\"kind\":\"Any\",\"default\":\"warn\"},{\"name\":\"ncols\",\"kind\":\"Any\",\"default\":null},{\"name\":\"nrows\",\"kind\":\"Any\",\"default\":null},{\"name\":\"allow_resize\",\"kind\":\"Any\",\"default\":true},{\"name\":\"allow_drag\",\"kind\":\"Any\",\"default\":true},{\"name\":\"state\",\"kind\":\"Any\",\"default\":[]}]},{\"type\":\"model\",\"name\":\"drag1\",\"properties\":[{\"name\":\"slider_width\",\"kind\":\"Any\",\"default\":5},{\"name\":\"slider_color\",\"kind\":\"Any\",\"default\":\"black\"},{\"name\":\"value\",\"kind\":\"Any\",\"default\":50}]},{\"type\":\"model\",\"name\":\"click1\",\"properties\":[{\"name\":\"terminal_output\",\"kind\":\"Any\",\"default\":\"\"},{\"name\":\"debug_name\",\"kind\":\"Any\",\"default\":\"\"},{\"name\":\"clears\",\"kind\":\"Any\",\"default\":0}]},{\"type\":\"model\",\"name\":\"FastWrapper1\",\"properties\":[{\"name\":\"object\",\"kind\":\"Any\",\"default\":null},{\"name\":\"style\",\"kind\":\"Any\",\"default\":null}]},{\"type\":\"model\",\"name\":\"NotificationAreaBase1\",\"properties\":[{\"name\":\"js_events\",\"kind\":\"Any\",\"default\":{\"type\":\"map\"}},{\"name\":\"position\",\"kind\":\"Any\",\"default\":\"bottom-right\"},{\"name\":\"_clear\",\"kind\":\"Any\",\"default\":0}]},{\"type\":\"model\",\"name\":\"NotificationArea1\",\"properties\":[{\"name\":\"js_events\",\"kind\":\"Any\",\"default\":{\"type\":\"map\"}},{\"name\":\"notifications\",\"kind\":\"Any\",\"default\":[]},{\"name\":\"position\",\"kind\":\"Any\",\"default\":\"bottom-right\"},{\"name\":\"_clear\",\"kind\":\"Any\",\"default\":0},{\"name\":\"types\",\"kind\":\"Any\",\"default\":[{\"type\":\"map\",\"entries\":[[\"type\",\"warning\"],[\"background\",\"#ffc107\"],[\"icon\",{\"type\":\"map\",\"entries\":[[\"className\",\"fas fa-exclamation-triangle\"],[\"tagName\",\"i\"],[\"color\",\"white\"]]}]]},{\"type\":\"map\",\"entries\":[[\"type\",\"info\"],[\"background\",\"#007bff\"],[\"icon\",{\"type\":\"map\",\"entries\":[[\"className\",\"fas fa-info-circle\"],[\"tagName\",\"i\"],[\"color\",\"white\"]]}]]}]}]},{\"type\":\"model\",\"name\":\"Notification\",\"properties\":[{\"name\":\"background\",\"kind\":\"Any\",\"default\":null},{\"name\":\"duration\",\"kind\":\"Any\",\"default\":3000},{\"name\":\"icon\",\"kind\":\"Any\",\"default\":null},{\"name\":\"message\",\"kind\":\"Any\",\"default\":\"\"},{\"name\":\"notification_type\",\"kind\":\"Any\",\"default\":null},{\"name\":\"_destroyed\",\"kind\":\"Any\",\"default\":false}]},{\"type\":\"model\",\"name\":\"TemplateActions1\",\"properties\":[{\"name\":\"open_modal\",\"kind\":\"Any\",\"default\":0},{\"name\":\"close_modal\",\"kind\":\"Any\",\"default\":0}]},{\"type\":\"model\",\"name\":\"BootstrapTemplateActions1\",\"properties\":[{\"name\":\"open_modal\",\"kind\":\"Any\",\"default\":0},{\"name\":\"close_modal\",\"kind\":\"Any\",\"default\":0}]},{\"type\":\"model\",\"name\":\"TemplateEditor1\",\"properties\":[{\"name\":\"layout\",\"kind\":\"Any\",\"default\":[]}]},{\"type\":\"model\",\"name\":\"MaterialTemplateActions1\",\"properties\":[{\"name\":\"open_modal\",\"kind\":\"Any\",\"default\":0},{\"name\":\"close_modal\",\"kind\":\"Any\",\"default\":0}]},{\"type\":\"model\",\"name\":\"copy_to_clipboard1\",\"properties\":[{\"name\":\"fill\",\"kind\":\"Any\",\"default\":\"none\"},{\"name\":\"value\",\"kind\":\"Any\",\"default\":null}]}]}};\n",
       "  var render_items = [{\"docid\":\"2f6f01a1-6f12-441d-b012-7155e18729e3\",\"roots\":{\"p1002\":\"df316594-1ae8-4b13-b675-c11af81c9850\"},\"root_ids\":[\"p1002\"]}];\n",
       "  var docs = Object.values(docs_json)\n",
       "  if (!docs) {\n",
       "    return\n",
       "  }\n",
       "  const py_version = docs[0].version.replace('rc', '-rc.').replace('.dev', '-dev.')\n",
       "  async function embed_document(root) {\n",
       "    var Bokeh = get_bokeh(root)\n",
       "    await Bokeh.embed.embed_items_notebook(docs_json, render_items);\n",
       "    for (const render_item of render_items) {\n",
       "      for (const root_id of render_item.root_ids) {\n",
       "\tconst id_el = document.getElementById(root_id)\n",
       "\tif (id_el.children.length && id_el.children[0].hasAttribute('data-root-id')) {\n",
       "\t  const root_el = id_el.children[0]\n",
       "\t  root_el.id = root_el.id + '-rendered'\n",
       "\t  for (const child of root_el.children) {\n",
       "            // Ensure JupyterLab does not capture keyboard shortcuts\n",
       "            // see: https://jupyterlab.readthedocs.io/en/4.1.x/extension/notebook.html#keyboard-interaction-model\n",
       "\t    child.setAttribute('data-lm-suppress-shortcuts', 'true')\n",
       "\t  }\n",
       "\t}\n",
       "      }\n",
       "    }\n",
       "  }\n",
       "  function get_bokeh(root) {\n",
       "    if (root.Bokeh === undefined) {\n",
       "      return null\n",
       "    } else if (root.Bokeh.version !== py_version) {\n",
       "      if (root.Bokeh.versions === undefined || !root.Bokeh.versions.has(py_version)) {\n",
       "\treturn null\n",
       "      }\n",
       "      return root.Bokeh.versions.get(py_version);\n",
       "    } else if (root.Bokeh.version === py_version) {\n",
       "      return root.Bokeh\n",
       "    }\n",
       "    return null\n",
       "  }\n",
       "  function is_loaded(root) {\n",
       "    var Bokeh = get_bokeh(root)\n",
       "    return (Bokeh != null && Bokeh.Panel !== undefined)\n",
       "  }\n",
       "  if (is_loaded(root)) {\n",
       "    embed_document(root);\n",
       "  } else {\n",
       "    var attempts = 0;\n",
       "    var timer = setInterval(function(root) {\n",
       "      if (is_loaded(root)) {\n",
       "        clearInterval(timer);\n",
       "        embed_document(root);\n",
       "      } else if (document.readyState == \"complete\") {\n",
       "        attempts++;\n",
       "        if (attempts > 200) {\n",
       "          clearInterval(timer);\n",
       "\t  var Bokeh = get_bokeh(root)\n",
       "\t  if (Bokeh == null || Bokeh.Panel == null) {\n",
       "            console.warn(\"Panel: ERROR: Unable to run Panel code because Bokeh or Panel library is missing\");\n",
       "\t  } else {\n",
       "\t    console.warn(\"Panel: WARNING: Attempting to render but not all required libraries could be resolved.\")\n",
       "\t    embed_document(root)\n",
       "\t  }\n",
       "        }\n",
       "      }\n",
       "    }, 25, root)\n",
       "  }\n",
       "})(window);</script>"
      ]
     },
     "metadata": {
      "application/vnd.holoviews_exec.v0+json": {
       "id": "p1002"
      }
     },
     "output_type": "display_data"
    }
   ],
   "source": [
    "import polars as pl\n",
    "import duckdb\n",
    "import requests\n",
    "import zipfile\n",
    "import os\n",
    "import hvplot.polars"
   ]
  },
  {
   "cell_type": "markdown",
   "metadata": {},
   "source": [
    "Can use awk -F';' 'NR==1 || ($5 >= -3 && $5 <= -2)' data/2023-12_sds011.csv > data/output.csv\n",
    "\n",
    "but it doesn't seem any faster than using polars\n"
   ]
  },
  {
   "cell_type": "code",
   "execution_count": 2,
   "metadata": {},
   "outputs": [],
   "source": [
    "years = range(2020, 2024, 1)\n",
    "month_nums = range(1, 13, 1)\n",
    "month_strs = [f'0{str(mon)}' if mon < 10 else str(mon) for mon in month_nums]\n",
    "yr_mon_list = []\n",
    "for year in years:\n",
    "    for m in month_strs:\n",
    "        yr_mon_list.append(f'{year}-{m}')\n",
    "    "
   ]
  },
  {
   "cell_type": "code",
   "execution_count": 3,
   "metadata": {},
   "outputs": [
    {
     "data": {
      "text/plain": [
       "['01', '02', '03', '04', '05', '06', '07', '08', '09', '10', '11', '12']"
      ]
     },
     "execution_count": 3,
     "metadata": {},
     "output_type": "execute_result"
    }
   ],
   "source": [
    "month_strs"
   ]
  },
  {
   "cell_type": "code",
   "execution_count": 4,
   "metadata": {},
   "outputs": [
    {
     "data": {
      "text/plain": [
       "['2020-01', '2020-02']"
      ]
     },
     "execution_count": 4,
     "metadata": {},
     "output_type": "execute_result"
    }
   ],
   "source": [
    "# type(yr_mon_list[0])\n",
    "yr_mon_list[0:2]"
   ]
  },
  {
   "cell_type": "code",
   "execution_count": 5,
   "metadata": {},
   "outputs": [],
   "source": [
    "\n",
    "def unz_del(yr_mon: str, sensor_type: str = 'sds011'):\n",
    "    '''\n",
    "    Download and unzip a csv file for the year \\ month and sensor type specified.\n",
    "    Delete the original zip file after extraction.\n",
    "\n",
    "    '''\n",
    "       \n",
    "    # URL of the ZIP file to download\n",
    "    zip_url = f'https://archive.sensor.community/csv_per_month/{yr_mon}/{yr_mon}_{sensor_type}.zip'\n",
    "\n",
    "    # Path where the ZIP file will be saved temporarily\n",
    "    # data folder\n",
    "    datfolder = 'data'\n",
    "    zip_path = f'{datfolder}/temp.zip'\n",
    "\n",
    "    try:\n",
    "        # Download the ZIP file\n",
    "        print(f\"Downloading ZIP file from {zip_url}...\")\n",
    "        response = requests.get(zip_url)\n",
    "        response.raise_for_status()  # Raises an HTTPError if the response was an HTTP error\n",
    "\n",
    "        with open(zip_path, 'wb') as f:\n",
    "            f.write(response.content)\n",
    "        print(\"Download complete.\")\n",
    "        extracted_files = []\n",
    "        # Unzip the archive\n",
    "        print(\"Extracting ZIP file...\")\n",
    "        with zipfile.ZipFile(zip_path, 'r') as zip_ref:\n",
    "            zip_ref.extractall('data')\n",
    "        print(\"Extraction complete.\")\n",
    "        extracted_files = zip_ref.namelist()[0]\n",
    "\n",
    "        if os.path.exists(zip_path):\n",
    "            os.remove(zip_path)\n",
    "            print(\"Original ZIP file deleted.\")\n",
    "            return extracted_files\n",
    "\n",
    "    except requests.exceptions.RequestException as e:\n",
    "        print(f\"An error occurred during the download: {e}\")\n",
    "    except zipfile.BadZipFile:\n",
    "        print(\"The downloaded file is not a valid ZIP file.\")\n",
    "    except Exception as e:\n",
    "        print(f\"An error occurred: {e}\")\n",
    "\n",
    "    "
   ]
  },
  {
   "cell_type": "code",
   "execution_count": 42,
   "metadata": {},
   "outputs": [
    {
     "name": "stdout",
     "output_type": "stream",
     "text": [
      "Downloading ZIP file from https://archive.sensor.community/csv_per_month/2024-02/2024-02_bme280.zip...\n",
      "Download complete.\n",
      "Extracting ZIP file...\n",
      "Extraction complete.\n",
      "Original ZIP file deleted.\n"
     ]
    },
    {
     "data": {
      "text/plain": [
       "'2024-02_bme280.csv'"
      ]
     },
     "execution_count": 42,
     "metadata": {},
     "output_type": "execute_result"
    }
   ],
   "source": [
    "unz_del('2024-02', 'bme280')"
   ]
  },
  {
   "cell_type": "code",
   "execution_count": 6,
   "metadata": {},
   "outputs": [],
   "source": [
    "def make_bme_sensor_data_fact_df(csv_file: str) -> pl.DataFrame:\n",
    "    '''\n",
    "    Read a bme280 csv file, filter for lep area, calculate hourly mean values\n",
    "    for pressure, temperature, humidity\n",
    "    clean it and write it to a new csv file\n",
    "    '''\n",
    "    path = f'data/{csv_file}'\n",
    "    try:\n",
    "        raw_df = pl.scan_csv(path,\n",
    "            has_header=True,\n",
    "            separator=';',\n",
    "            null_values = [' ', 'unavailable', 'unknown', 'b'],\n",
    "            schema = {'sensor_id': pl.Int64,\n",
    "                      'sensor_type': pl.Utf8,\n",
    "                      'location': pl.Int64,\n",
    "                      'lat': pl.Float64,\n",
    "                      'lon': pl.Float64,\n",
    "                      'timestamp': pl.Datetime,\n",
    "                      'pressure': pl.Float64,\n",
    "                      'altitude': pl.Float64,\n",
    "                      'pressure_sealevel': pl.Float64,\n",
    "                      'temperature': pl.Float64,\n",
    "                      'humidity': pl.Float64},\n",
    "            ignore_errors=True)\n",
    "        \n",
    "        sensor_data_fact_df = (\n",
    "            raw_df\n",
    "             .filter([pl.col('lon').is_between(-3, -2.18), pl.col('lat').is_between(51.2, 51.6)])\n",
    "             .select(['sensor_id', 'lat', 'lon', 'timestamp', 'pressure', 'temperature', 'humidity'])\n",
    "             .sort(by = [pl.col('sensor_id'), pl.col('timestamp')])\n",
    "             .group_by_dynamic('timestamp', every = \"1h\", group_by = 'sensor_id')\n",
    "             .agg([pl.col('pressure').mean(),\n",
    "                pl.col('temperature').mean(),\n",
    "                pl.col('humidity').mean(),\n",
    "                pl.col('lat').first().alias(\"lat\"),\n",
    "                pl.col('lon').first().alias(\"lon\")\n",
    "                    ])\n",
    "             ).collect()\n",
    "\n",
    "        thedate = (sensor_data_fact_df\n",
    "        .head(1)\n",
    "        .select(pl.col('timestamp'))\n",
    "        .to_series(0)\n",
    "        )[0]\n",
    "        clean_file_out_path = f'data/cleaned/{str(thedate.year)}-{str(thedate.month)}_bme280_clean.csv'\n",
    "        sensor_data_fact_df.write_csv(clean_file_out_path)\n",
    "        os.remove(path)\n",
    "        \n",
    "        return sensor_data_fact_df\n",
    "    \n",
    "    except Exception as e:\n",
    "        print(f\"An error occurred: {e}\")\n",
    "\n",
    "        "
   ]
  },
  {
   "cell_type": "code",
   "execution_count": 10,
   "metadata": {},
   "outputs": [],
   "source": [
    "bme_df = make_bme_sensor_data_fact_df('2024-02_bme280.csv')"
   ]
  },
  {
   "cell_type": "code",
   "execution_count": 21,
   "metadata": {},
   "outputs": [],
   "source": [
    "plot_df = (bme_df\n",
    " .filter(pl.col('temperature').is_between(-20, 45))\n",
    " )"
   ]
  },
  {
   "cell_type": "code",
   "execution_count": 23,
   "metadata": {},
   "outputs": [
    {
     "data": {},
     "metadata": {},
     "output_type": "display_data"
    },
    {
     "data": {
      "application/vnd.holoviews_exec.v0+json": "",
      "text/html": [
       "<div id='p1577'>\n",
       "  <div id=\"c289f556-19b9-45da-a0b2-49dcc487ce8c\" data-root-id=\"p1577\" style=\"display: contents;\"></div>\n",
       "</div>\n",
       "<script type=\"application/javascript\">(function(root) {\n",
       "  var docs_json = {\"b7f3c90d-20cc-4d03-bbed-e48eda13fba7\":{\"version\":\"3.4.1\",\"title\":\"Bokeh Application\",\"roots\":[{\"type\":\"object\",\"name\":\"Row\",\"id\":\"p1577\",\"attributes\":{\"name\":\"Row02000\",\"tags\":[\"embedded\"],\"stylesheets\":[\"\\n:host(.pn-loading):before, .pn-loading:before {\\n  background-color: #c3c3c3;\\n  mask-size: auto calc(min(50%, 400px));\\n  -webkit-mask-size: auto calc(min(50%, 400px));\\n}\",{\"type\":\"object\",\"name\":\"ImportedStyleSheet\",\"id\":\"p1580\",\"attributes\":{\"url\":\"https://cdn.holoviz.org/panel/1.4.4/dist/css/loading.css\"}},{\"type\":\"object\",\"name\":\"ImportedStyleSheet\",\"id\":\"p1718\",\"attributes\":{\"url\":\"https://cdn.holoviz.org/panel/1.4.4/dist/css/listpanel.css\"}},{\"type\":\"object\",\"name\":\"ImportedStyleSheet\",\"id\":\"p1578\",\"attributes\":{\"url\":\"https://cdn.holoviz.org/panel/1.4.4/dist/bundled/theme/default.css\"}},{\"type\":\"object\",\"name\":\"ImportedStyleSheet\",\"id\":\"p1579\",\"attributes\":{\"url\":\"https://cdn.holoviz.org/panel/1.4.4/dist/bundled/theme/native.css\"}}],\"min_width\":800,\"margin\":0,\"sizing_mode\":\"stretch_width\",\"align\":\"start\",\"children\":[{\"type\":\"object\",\"name\":\"Spacer\",\"id\":\"p1581\",\"attributes\":{\"name\":\"HSpacer02007\",\"stylesheets\":[\"\\n:host(.pn-loading):before, .pn-loading:before {\\n  background-color: #c3c3c3;\\n  mask-size: auto calc(min(50%, 400px));\\n  -webkit-mask-size: auto calc(min(50%, 400px));\\n}\",{\"id\":\"p1580\"},{\"id\":\"p1578\"},{\"id\":\"p1579\"}],\"margin\":0,\"sizing_mode\":\"stretch_width\",\"align\":\"start\"}},{\"type\":\"object\",\"name\":\"Figure\",\"id\":\"p1601\",\"attributes\":{\"width\":800,\"height\":400,\"margin\":[5,10],\"sizing_mode\":\"fixed\",\"align\":\"start\",\"x_range\":{\"type\":\"object\",\"name\":\"Range1d\",\"id\":\"p1582\",\"attributes\":{\"tags\":[[[\"timestamp\",null]],[]],\"start\":1706745600000.0,\"end\":1709247600000.0,\"reset_start\":1706745600000.0,\"reset_end\":1709247600000.0}},\"y_range\":{\"type\":\"object\",\"name\":\"Range1d\",\"id\":\"p1583\",\"attributes\":{\"tags\":[[[\"temperature\",null]],{\"type\":\"map\",\"entries\":[[\"invert_yaxis\",false],[\"autorange\",false]]}],\"start\":0.11465499999999995,\"end\":20.473794999999996,\"reset_start\":0.11465499999999995,\"reset_end\":20.473794999999996}},\"x_scale\":{\"type\":\"object\",\"name\":\"LinearScale\",\"id\":\"p1611\"},\"y_scale\":{\"type\":\"object\",\"name\":\"LinearScale\",\"id\":\"p1612\"},\"title\":{\"type\":\"object\",\"name\":\"Title\",\"id\":\"p1604\",\"attributes\":{\"text_color\":\"black\",\"text_font_size\":\"12pt\"}},\"renderers\":[{\"type\":\"object\",\"name\":\"GlyphRenderer\",\"id\":\"p1653\",\"attributes\":{\"name\":\"48882\",\"data_source\":{\"type\":\"object\",\"name\":\"ColumnDataSource\",\"id\":\"p1644\",\"attributes\":{\"selected\":{\"type\":\"object\",\"name\":\"Selection\",\"id\":\"p1645\",\"attributes\":{\"indices\":[],\"line_indices\":[]}},\"selection_policy\":{\"type\":\"object\",\"name\":\"UnionRenderers\",\"id\":\"p1646\"},\"data\":{\"type\":\"map\",\"entries\":[[\"timestamp\",{\"type\":\"ndarray\",\"array\":{\"type\":\"bytes\",\"data\":\"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\"},\"shape\":[254],\"dtype\":\"float64\",\"order\":\"little\"}],[\"temperature\",{\"type\":\"ndarray\",\"array\":{\"type\":\"bytes\",\"data\":\"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\"},\"shape\":[254],\"dtype\":\"float64\",\"order\":\"little\"}],[\"sensor_id\",[48882,48882,48882,48882,48882,48882,48882,48882,48882,48882,48882,48882,48882,48882,48882,48882,48882,48882,48882,48882,48882,48882,48882,48882,48882,48882,48882,48882,48882,48882,48882,48882,48882,48882,48882,48882,48882,48882,48882,48882,48882,48882,48882,48882,48882,48882,48882,48882,48882,48882,48882,48882,48882,48882,48882,48882,48882,48882,48882,48882,48882,48882,48882,48882,48882,48882,48882,48882,48882,48882,48882,48882,48882,48882,48882,48882,48882,48882,48882,48882,48882,48882,48882,48882,48882,48882,48882,48882,48882,48882,48882,48882,48882,48882,48882,48882,48882,48882,48882,48882,48882,48882,48882,48882,48882,48882,48882,48882,48882,48882,48882,48882,48882,48882,48882,48882,48882,48882,48882,48882,48882,48882,48882,48882,48882,48882,48882,48882,48882,48882,48882,48882,48882,48882,48882,48882,48882,48882,48882,48882,48882,48882,48882,48882,48882,48882,48882,48882,48882,48882,48882,48882,48882,48882,48882,48882,48882,48882,48882,48882,48882,48882,48882,48882,48882,48882,48882,48882,48882,48882,48882,48882,48882,48882,48882,48882,48882,48882,48882,48882,48882,48882,48882,48882,48882,48882,48882,48882,48882,48882,48882,48882,48882,48882,48882,48882,48882,48882,48882,48882,48882,48882,48882,48882,48882,48882,48882,48882,48882,48882,48882,48882,48882,48882,48882,48882,48882,48882,48882,48882,48882,48882,48882,48882,48882,48882,48882,48882,48882,48882,48882,48882,48882,48882,48882,48882,48882,48882,48882,48882,48882,48882,48882,48882,48882,48882,48882,48882,48882,48882,48882,48882,48882,48882]]]}}},\"view\":{\"type\":\"object\",\"name\":\"CDSView\",\"id\":\"p1654\",\"attributes\":{\"filter\":{\"type\":\"object\",\"name\":\"AllIndices\",\"id\":\"p1655\"}}},\"glyph\":{\"type\":\"object\",\"name\":\"Line\",\"id\":\"p1650\",\"attributes\":{\"tags\":[\"apply_ranges\"],\"x\":{\"type\":\"field\",\"field\":\"timestamp\"},\"y\":{\"type\":\"field\",\"field\":\"temperature\"},\"line_color\":\"#30a2da\",\"line_width\":2}},\"selection_glyph\":{\"type\":\"object\",\"name\":\"Line\",\"id\":\"p1658\",\"attributes\":{\"tags\":[\"apply_ranges\"],\"x\":{\"type\":\"field\",\"field\":\"timestamp\"},\"y\":{\"type\":\"field\",\"field\":\"temperature\"},\"line_color\":\"#30a2da\",\"line_width\":2}},\"nonselection_glyph\":{\"type\":\"object\",\"name\":\"Line\",\"id\":\"p1651\",\"attributes\":{\"tags\":[\"apply_ranges\"],\"x\":{\"type\":\"field\",\"field\":\"timestamp\"},\"y\":{\"type\":\"field\",\"field\":\"temperature\"},\"line_color\":\"#30a2da\",\"line_alpha\":0.1,\"line_width\":2}},\"muted_glyph\":{\"type\":\"object\",\"name\":\"Line\",\"id\":\"p1652\",\"attributes\":{\"tags\":[\"apply_ranges\"],\"x\":{\"type\":\"field\",\"field\":\"timestamp\"},\"y\":{\"type\":\"field\",\"field\":\"temperature\"},\"line_color\":\"#30a2da\",\"line_alpha\":0.2,\"line_width\":2}}}},{\"type\":\"object\",\"name\":\"GlyphRenderer\",\"id\":\"p1668\",\"attributes\":{\"name\":\"55277\",\"data_source\":{\"type\":\"object\",\"name\":\"ColumnDataSource\",\"id\":\"p1659\",\"attributes\":{\"selected\":{\"type\":\"object\",\"name\":\"Selection\",\"id\":\"p1660\",\"attributes\":{\"indices\":[],\"line_indices\":[]}},\"selection_policy\":{\"type\":\"object\",\"name\":\"UnionRenderers\",\"id\":\"p1661\"},\"data\":{\"type\":\"map\",\"entries\":[[\"timestamp\",{\"type\":\"ndarray\",\"array\":{\"type\":\"bytes\",\"data\":\"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\"},\"shape\":[689],\"dtype\":\"float64\",\"order\":\"little\"}],[\"temperature\",{\"type\":\"ndarray\",\"array\":{\"type\":\"bytes\",\"data\":\"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\"},\"shape\":[689],\"dtype\":\"float64\",\"order\":\"little\"}],[\"sensor_id\",[55277,55277,55277,55277,55277,55277,55277,55277,55277,55277,55277,55277,55277,55277,55277,55277,55277,55277,55277,55277,55277,55277,55277,55277,55277,55277,55277,55277,55277,55277,55277,55277,55277,55277,55277,55277,55277,55277,55277,55277,55277,55277,55277,55277,55277,55277,55277,55277,55277,55277,55277,55277,55277,55277,55277,55277,55277,55277,55277,55277,55277,55277,55277,55277,55277,55277,55277,55277,55277,55277,55277,55277,55277,55277,55277,55277,55277,55277,55277,55277,55277,55277,55277,55277,55277,55277,55277,55277,55277,55277,55277,55277,55277,55277,55277,55277,55277,55277,55277,55277,55277,55277,55277,55277,55277,55277,55277,55277,55277,55277,55277,55277,55277,55277,55277,55277,55277,55277,55277,55277,55277,55277,55277,55277,55277,55277,55277,55277,55277,55277,55277,55277,55277,55277,55277,55277,55277,55277,55277,55277,55277,55277,55277,55277,55277,55277,55277,55277,55277,55277,55277,55277,55277,55277,55277,55277,55277,55277,55277,55277,55277,55277,55277,55277,55277,55277,55277,55277,55277,55277,55277,55277,55277,55277,55277,55277,55277,55277,55277,55277,55277,55277,55277,55277,55277,55277,55277,55277,55277,55277,55277,55277,55277,55277,55277,55277,55277,55277,55277,55277,55277,55277,55277,55277,55277,55277,55277,55277,55277,55277,55277,55277,55277,55277,55277,55277,55277,55277,55277,55277,55277,55277,55277,55277,55277,55277,55277,55277,55277,55277,55277,55277,55277,55277,55277,55277,55277,55277,55277,55277,55277,55277,55277,55277,55277,55277,55277,55277,55277,55277,55277,55277,55277,55277,55277,55277,55277,55277,55277,55277,55277,55277,55277,55277,55277,55277,55277,55277,55277,55277,55277,55277,55277,55277,55277,55277,55277,55277,55277,55277,55277,55277,55277,55277,55277,55277,55277,55277,55277,55277,55277,55277,55277,55277,55277,55277,55277,55277,55277,55277,55277,55277,55277,55277,55277,55277,55277,55277,55277,55277,55277,55277,55277,55277,55277,55277,55277,55277,55277,55277,55277,55277,55277,55277,55277,55277,55277,55277,55277,55277,55277,55277,55277,55277,55277,55277,55277,55277,55277,55277,55277,55277,55277,55277,55277,55277,55277,55277,55277,55277,55277,55277,55277,55277,55277,55277,55277,55277,55277,55277,55277,55277,55277,55277,55277,55277,55277,55277,55277,55277,55277,55277,55277,55277,55277,55277,55277,55277,55277,55277,55277,55277,55277,55277,55277,55277,55277,55277,55277,55277,55277,55277,55277,55277,55277,55277,55277,55277,55277,55277,55277,55277,55277,55277,55277,55277,55277,55277,55277,55277,55277,55277,55277,55277,55277,55277,55277,55277,55277,55277,55277,55277,55277,55277,55277,55277,55277,55277,55277,55277,55277,55277,55277,55277,55277,55277,55277,55277,55277,55277,55277,55277,55277,55277,55277,55277,55277,55277,55277,55277,55277,55277,55277,55277,55277,55277,55277,55277,55277,55277,55277,55277,55277,55277,55277,55277,55277,55277,55277,55277,55277,55277,55277,55277,55277,55277,55277,55277,55277,55277,55277,55277,55277,55277,55277,55277,55277,55277,55277,55277,55277,55277,55277,55277,55277,55277,55277,55277,55277,55277,55277,55277,55277,55277,55277,55277,55277,55277,55277,55277,55277,55277,55277,55277,55277,55277,55277,55277,55277,55277,55277,55277,55277,55277,55277,55277,55277,55277,55277,55277,55277,55277,55277,55277,55277,55277,55277,55277,55277,55277,55277,55277,55277,55277,55277,55277,55277,55277,55277,55277,55277,55277,55277,55277,55277,55277,55277,55277,55277,55277,55277,55277,55277,55277,55277,55277,55277,55277,55277,55277,55277,55277,55277,55277,55277,55277,55277,55277,55277,55277,55277,55277,55277,55277,55277,55277,55277,55277,55277,55277,55277,55277,55277,55277,55277,55277,55277,55277,55277,55277,55277,55277,55277,55277,55277,55277,55277,55277,55277,55277,55277,55277,55277,55277,55277,55277,55277,55277,55277,55277,55277,55277,55277,55277,55277,55277,55277,55277,55277,55277,55277,55277,55277,55277,55277,55277,55277,55277,55277,55277,55277,55277,55277,55277,55277,55277,55277,55277,55277,55277,55277,55277,55277,55277,55277,55277,55277,55277,55277,55277,55277,55277,55277,55277,55277,55277,55277,55277,55277,55277,55277,55277,55277,55277,55277,55277,55277,55277,55277,55277,55277,55277,55277,55277,55277,55277,55277,55277,55277]]]}}},\"view\":{\"type\":\"object\",\"name\":\"CDSView\",\"id\":\"p1669\",\"attributes\":{\"filter\":{\"type\":\"object\",\"name\":\"AllIndices\",\"id\":\"p1670\"}}},\"glyph\":{\"type\":\"object\",\"name\":\"Line\",\"id\":\"p1665\",\"attributes\":{\"tags\":[\"apply_ranges\"],\"x\":{\"type\":\"field\",\"field\":\"timestamp\"},\"y\":{\"type\":\"field\",\"field\":\"temperature\"},\"line_color\":\"#fc4f30\",\"line_width\":2}},\"selection_glyph\":{\"type\":\"object\",\"name\":\"Line\",\"id\":\"p1672\",\"attributes\":{\"tags\":[\"apply_ranges\"],\"x\":{\"type\":\"field\",\"field\":\"timestamp\"},\"y\":{\"type\":\"field\",\"field\":\"temperature\"},\"line_color\":\"#fc4f30\",\"line_width\":2}},\"nonselection_glyph\":{\"type\":\"object\",\"name\":\"Line\",\"id\":\"p1666\",\"attributes\":{\"tags\":[\"apply_ranges\"],\"x\":{\"type\":\"field\",\"field\":\"timestamp\"},\"y\":{\"type\":\"field\",\"field\":\"temperature\"},\"line_color\":\"#fc4f30\",\"line_alpha\":0.1,\"line_width\":2}},\"muted_glyph\":{\"type\":\"object\",\"name\":\"Line\",\"id\":\"p1667\",\"attributes\":{\"tags\":[\"apply_ranges\"],\"x\":{\"type\":\"field\",\"field\":\"timestamp\"},\"y\":{\"type\":\"field\",\"field\":\"temperature\"},\"line_color\":\"#fc4f30\",\"line_alpha\":0.2,\"line_width\":2}}}},{\"type\":\"object\",\"name\":\"GlyphRenderer\",\"id\":\"p1682\",\"attributes\":{\"name\":\"69351\",\"data_source\":{\"type\":\"object\",\"name\":\"ColumnDataSource\",\"id\":\"p1673\",\"attributes\":{\"selected\":{\"type\":\"object\",\"name\":\"Selection\",\"id\":\"p1674\",\"attributes\":{\"indices\":[],\"line_indices\":[]}},\"selection_policy\":{\"type\":\"object\",\"name\":\"UnionRenderers\",\"id\":\"p1675\"},\"data\":{\"type\":\"map\",\"entries\":[[\"timestamp\",{\"type\":\"ndarray\",\"array\":{\"type\":\"bytes\",\"data\":\"AACAcR/WeEIAAGjgItZ4QgAAUE8m1nhCAAA4vinWeEIAACAtLdZ4QgAACJww1nhCAADwCjTWeEIAANh5N9Z4QgAAwOg61nhCAACoVz7WeEIAAJDGQdZ4QgAAeDVF1nhCAABgpEjWeEIAAEgTTNZ4QgAAMIJP1nhCAAAAYFbWeEIAAOjOWdZ4QgAA0D1d1nhCAAC4rGDWeEIAAKAbZNZ4QgAAiIpn1nhCAABw+WrWeEIAAFhobtZ4QgAAQNdx1nhCAAAoRnXWeEIAABC1eNZ4QgAA+CN81nhCAADgkn/WeEIAAMgBg9Z4QgAAsHCG1nhCAACY34nWeEIAAIBOjdZ4QgAAaL2Q1nhCAABQLJTWeEIAADibl9Z4QgAAIAqb1nhCAADw56HWeEIAANhWpdZ4QgAAwMWo1nhCAACoNKzWeEIAAJCjr9Z4QgAAeBKz1nhCAABggbbWeEIAAEjwudZ4QgAAMF+91nhCAAAYzsDWeEIAAAA9xNZ4QgAA6KvH1nhCAADQGsvWeEIAALiJztZ4QgAAoPjR1nhCAACIZ9XWeEIAAHDW2NZ4QgAAWEXc1nhCAABAtN/WeEIAACgj49Z4QgAA+ADq1nhCAADgb+3WeEIAAMje8NZ4QgAAsE301nhCAACYvPfWeEIAAIAr+9Z4QgAAaJr+1nhCAABQCQLXeEIAADh4Bdd4QgAAIOcI13hCAAAIVgzXeEIAAPDED9d4QgAA2DMT13hCAADAohbXeEIAAKgRGtd4QgAAkIAd13hCAAB47yDXeEIAAGBeJNd4QgAASM0n13hCAAAwPCvXeEIAABirLtd4QgAAABoy13hCAADoiDXXeEIAAND3ONd4QgAAuGY813hCAACg1T/XeEIAAIhEQ9d4QgAAcLNG13hCAABYIkrXeEIAAECRTdd4QgAAKABR13hCAAAQb1TXeEIAAPjdV9d4QgAA4Exb13hCAADIu17XeEIAALAqYtd4QgAAmJll13hCAACACGnXeEIAAGh3bNd4QgAAUOZv13hCAAA4VXPXeEIAACDEdtd4QgAACDN613hCAADwoX3XeEIAANgQgdd4QgAAqO6H13hCAACQXYvXeEIAAHjMjtd4QgAAYDuS13hCAABIqpXXeEIAADAZmdd4QgAAGIic13hCAAAA95/XeEIAAOhlo9d4QgAA0NSm13hCAAC4Q6rXeEIAAKCyrdd4QgAAiCGx13hCAABwkLTXeEIAAFj/t9d4QgAAEEzC13hCAAD4usXXeEIAAOApydd4QgAAyJjM13hCAACwB9DXeEIAAJh209d4QgAAgOXW13hCAABoVNrXeEIAAFDD3dd4QgAAODLh13hCAAAgoeTXeEIAAAgQ6Nd4QgAA8H7r13hCAADY7e7XeEIAAMBc8td4QgAAqMv113hCAACQOvnXeEIAAHip/Nd4QgAAYBgA2HhCAABIhwPYeEIAADD2Bth4QgAAGGUK2HhCAAAA1A3YeEIAAOhCEdh4QgAA0LEU2HhCAAC4IBjYeEIAAKCPG9h4QgAAiP4e2HhCAABY3CXYeEIAAEBLKdh4QgAAKLos2HhCAAAQKTDYeEIAAPiXM9h4QgAA4AY32HhCAADIdTrYeEIAALDkPdh4QgAAmFNB2HhCAACAwkTYeEIAAGgxSNh4QgAAUKBL2HhCAAA4D0/YeEIAACB+Uth4QgAACO1V2HhCAADwW1nYeEIAANjKXNh4QgAAwDlg2HhCAACoqGPYeEIAAHiGath4QgAAYPVt2HhCAABIZHHYeEIAADDTdNh4QgAAGEJ42HhCAAAAsXvYeEIAAOgff9h4QgAA0I6C2HhCAAC4/YXYeEIAAKBsidh4QgAAiNuM2HhCAABwSpDYeEIAAFi5k9h4QgAAQCiX2HhCAAAol5rYeEIAABAGnth4QgAA+HSh2HhCAADg46TYeEIAAMhSqNh4QgAAsMGr2HhCAACYMK/YeEIAAICfsth4QgAAaA622HhCAABQfbnYeEIAADjsvNh4QgAAIFvA2HhCAAAIysPYeEIAAPA4x9h4QgAA2KfK2HhCAADAFs7YeEIAAKiF0dh4QgAAkPTU2HhCAAB4Y9jYeEIAAGDS29h4QgAASEHf2HhCAAAwsOLYeEIAABgf5th4QgAAAI7p2HhCAADo/OzYeEIAANBr8Nh4QgAAuNrz2HhCAACgSffYeEIAAIi4+th4QgAAWJYB2XhCAABABQXZeEIAACh0CNl4QgAAEOML2XhCAAD4UQ/ZeEIAAODAEtl4QgAAyC8W2XhCAACwnhnZeEIAAJgNHdl4QgAAgHwg2XhCAABo6yPZeEIAAFBaJ9l4QgAAOMkq2XhCAAAgOC7ZeEIAAAinMdl4QgAA8BU12XhCAADYhDjZeEIAAMDzO9l4QgAAqGI/2XhCAACQ0ULZeEIAAHhARtl4QgAAYK9J2XhCAABIHk3ZeEIAADCNUNl4QgAAGPxT2XhCAAAAa1fZeEIAAOjZWtl4QgAA0Ehe2XhCAAC4t2HZeEIAAKAmZdl4QgAAiJVo2XhCAABwBGzZeEIAAFhzb9l4QgAAQOJy2XhCAAAoUXbZeEIAABDAedl4QgAA+C592XhCAADgnYDZeEIAAMgMhNl4QgAAsHuH2XhCAACY6orZeEIAAIBZjtl4QgAAaMiR2XhCAABQN5XZeEIAADimmNl4QgAAIBWc2XhCAAAIhJ/ZeEIAAPDyotl4QgAA2GGm2XhCAADA0KnZeEIAAKg/rdl4QgAAkK6w2XhCAAB4HbTZeEIAAGCMt9l4QgAASPu62XhCAAAwar7ZeEIAABjZwdl4QgAAAEjF2XhCAADotsjZeEIAANAlzNl4QgAAuJTP2XhCAACgA9PZeEIAAIhy1tl4QgAAcOHZ2XhCAABYUN3ZeEIAAEC/4Nl4QgAAKC7k2XhCAACwWPXZeEIAAJjH+Nl4QgAAgDb82XhCAABopf/ZeEIAAFAUA9p4QgAAOIMG2nhCAAAg8gnaeEIAAAhhDdp4QgAA8M8Q2nhCAADYPhTaeEIAAMCtF9p4QgAAqBwb2nhCAACQix7aeEIAAHj6Idp4QgAAYGkl2nhCAABI2CjaeEIAADBHLNp4QgAAGLYv2nhCAAAAJTPaeEIAAOiTNtp4QgAA0AI62nhCAAC4cT3aeEIAAKDgQNp4QgAAiE9E2nhCAABwvkfaeEIAAFgtS9p4QgAAQJxO2nhCAAAoC1LaeEIAABB6Vdp4QgAA+OhY2nhCAADgV1zaeEIAAMjGX9p4QgAAsDVj2nhCAACYpGbaeEIAAIATatp4QgAAaIJt2nhCAABQ8XDaeEIAADhgdNp4QgAAIM932nhCAAAIPnvaeEIAAPCsftp4QgAA2BuC2nhCAADAioXaeEIAAKj5iNp4QgAAeNeP2nhCAABgRpPaeEIAAEi1ltp4QgAAMCSa2nhCAAAYk53aeEIAAAACodp4QgAA6HCk2nhCAADQ36faeEIAAIgsstp4QgAAcJu12nhCAABAebzaeEIAACjov9p4QgAAEFfD2nhCAAD4xcbaeEIAAOA0ytp4QgAAyKPN2nhCAACwEtHaeEIAAJiB1Np4QgAAgPDX2nhCAABoX9vaeEIAAFDO3tp4QgAAOD3i2nhCAAAgrOXaeEIAAAgb6dp4QgAA8Ins2nhCAADY+O/aeEIAAKjW9tp4QgAAkEX62nhCAAB4tP3aeEIAAGAjAdt4QgAASJIE23hCAAAwAQjbeEIAABhwC9t4QgAAAN8O23hCAADoTRLbeEIAANC8Fdt4QgAAuCsZ23hCAACgmhzbeEIAAIgJINt4QgAAcHgj23hCAABY5ybbeEIAAEBWKtt4QgAAKMUt23hCAAAQNDHbeEIAAPiiNNt4QgAA4BE423hCAADIgDvbeEIAALDvPtt4QgAAmF5C23hCAACAzUXbeEIAAGg8Sdt4QgAAUKtM23hCAAA4GlDbeEIAACCJU9t4QgAACPhW23hCAADwZlrbeEIAANjVXdt4QgAAwERh23hCAACos2TbeEIAAJAiaNt4QgAAeJFr23hCAABgAG/beEIAAEhvctt4QgAAMN5123hCAAAYTXnbeEIAAAC8fNt4QgAA6CqA23hCAADQmYPbeEIAALgIh9t4QgAAoHeK23hCAACI5o3beEIAAHBVkdt4QgAAWMSU23hCAABAM5jbeEIAACiim9t4QgAAEBGf23hCAAD4f6LbeEIAAODupdt4QgAAyF2p23hCAACwzKzbeEIAAJg7sNt4QgAAgKqz23hCAABoGbfbeEIAAFCIutt4QgAAOPe923hCAAAgZsHbeEIAAAjVxNt4QgAA8EPI23hCAADYssvbeEIAAMAhz9t4QgAAqJDS23hCAACQ/9XbeEIAAHhu2dt4QgAAYN3c23hCAABITODbeEIAADC749t4QgAAGCrn23hCAAAAmerbeEIAAOgH7tt4QgAA0Hbx23hCAAC45fTbeEIAAKBU+Nt4QgAAiMP723hCAABwMv/beEIAAFihAtx4QgAAQBAG3HhCAAAofwnceEIAABDuDNx4QgAA+FwQ3HhCAADgyxPceEIAAMg6F9x4QgAAsKka3HhCAACYGB7ceEIAAICHIdx4QgAAaPYk3HhCAABQZSjceEIAADjUK9x4QgAAIEMv3HhCAAAIsjLceEIAAPAgNtx4QgAA2I853HhCAADA/jzceEIAAKhtQNx4QgAAkNxD3HhCAAB4S0fceEIAAGC6Stx4QgAASClO3HhCAAAwmFHceEIAABgHVdx4QgAAAHZY3HhCAADo5FvceEIAANBTX9x4QgAAuMJi3HhCAACgMWbceEIAAIigadx4QgAAcA9t3HhCAABYfnDceEIAAEDtc9x4QgAAKFx33HhCAAAQy3rceEIAAPg5ftx4QgAA4KiB3HhCAADIF4XceEIAALCGiNx4QgAAmPWL3HhCAACAZI/ceEIAAGjTktx4QgAAUEKW3HhCAAA4sZnceEIAACAgndx4QgAACI+g3HhCAADw/aPceEIAANhsp9x4QgAAwNuq3HhCAACoSq7ceEIAAJC5sdx4QgAAeCi13HhCAABgl7jceEIAAEgGvNx4QgAAMHW/3HhCAAAY5MLceEIAAABTxtx4QgAA6MHJ3HhCAADQMM3ceEIAALif0Nx4QgAAoA7U3HhCAACIfdfceEIAAHDs2tx4QgAAWFve3HhCAABAyuHceEIAACg55dx4QgAAEKjo3HhCAAD4FuzceEIAAOCF79x4QgAAyPTy3HhCAACwY/bceEIAAJjS+dx4QgAAgEH93HhCAABosADdeEIAADiOB914QgAAIP0K3XhCAAAIbA7deEIAAPDaEd14QgAA2EkV3XhCAADAuBjdeEIAAKgnHN14QgAAkJYf3XhCAAB4BSPdeEIAAGB0Jt14QgAASOMp3XhCAAAwUi3deEIAABjBMN14QgAAADA03XhCAADonjfdeEIAANANO914QgAAuHw+3XhCAACg60HdeEIAAIhaRd14QgAAcMlI3XhCAABYOEzdeEIAAECnT914QgAAKBZT3XhCAAAQhVbdeEIAAPjzWd14QgAA4GJd3XhCAADI0WDdeEIAALBAZN14QgAAmK9n3XhCAACAHmvdeEIAAGiNbt14QgAAUPxx3XhCAAA4a3XdeEIAACDaeN14QgAACEl83XhCAADwt3/deEIAANgmg914QgAAwJWG3XhCAACoBIrdeEIAAJBzjd14QgAAeOKQ3XhCAABgUZTdeEIAAEjAl914QgAAMC+b3XhCAAAYnp7deEIAAAANot14QgAA6Hul3XhCAADQ6qjdeEIAALhZrN14QgAAoMiv3XhCAACIN7PdeEIAAFgVut14QgAAQIS93XhCAAAo88DdeEIAABBixN14QgAA+NDH3XhCAADgP8vdeEIAAMiuzt14QgAAsB3S3XhCAACYjNXdeEIAAID72N14QgAAaGrc3XhCAABQ2d/deEIAADhI4914QgAAILfm3XhCAAAIJurdeEIAAPCU7d14QgAA2APx3XhCAADAcvTdeEIAAKjh9914QgAAkFD73XhCAAB4v/7deEIAAGAuAt54QgAASJ0F3nhCAAAwDAneeEIAABh7DN54QgAAAOoP3nhCAADoWBPeeEIAANDHFt54QgAAuDYa3nhCAACgpR3eeEIAAIgUId54QgAAcIMk3nhCAABY8ifeeEIAAEBhK954QgAAKNAu3nhCAAAQPzLeeEIAAPitNd54QgAA4Bw53nhCAADIizzeeEIAALD6P954QgAAmGlD3nhCAACA2EbeeEIAAGhHSt54QgAAULZN3nhCAAA4JVHeeEIAACCUVN54QgAACANY3nhCAADwcVveeEIAANjgXt54QgAAwE9i3nhCAACovmXeeEIAAJAtad54QgAAeJxs3nhCAABgC3DeeEIAAEh6c954QgAAMOl23nhCAAAYWHreeEIAAADHfd54QgAA6DWB3nhCAADQpITeeEIAALgTiN54QgAAoIKL3nhCAACI8Y7eeEIAAHBgkt54QgAAWM+V3nhCAABAPpneeEIAACitnN54QgAAEByg3nhCAAD4iqPeeEIAAOD5pt54QgAAyGiq3nhCAACw163eeEIAAJhGsd54QgAAgLW03nhCAABoJLjeeEIAAFCTu954QgAAOAK/3nhCAAAgccLeeEIAAAjgxd54QgAA2L3M3nhCAADALNDeeEIAAKib0954QgAAkArX3nhCAAB4edreeEIAAGDo3d54QgAASFfh3nhCAAAwxuTeeEIAABg16N54QgAAAKTr3nhCAADoEu/eeEIAANCB8t54QgAAoF/53nhCAACIzvzeeEIAAHA9AN94QgAAWKwD33hCAABAGwffeEIAACiKCt94QgAAEPkN33hCAAD4ZxHfeEIAAODWFN94QgAAyEUY33hCAACwtBvfeEIAAJgjH994QgAAgJIi33hCAABoASbfeEIAAFBwKd94QgAAON8s33hCAAAgTjDfeEIAAAi9M994QgAA8Cs333hCAADYmjrfeEIAAMAJPt94QgAAqHhB33hCAACQ50TfeEIAAHhWSN94QgAAYMVL33hCAABINE/feEIAADCjUt94QgAAGBJW33hCAAAAgVnfeEIAAOjvXN94QgAA0F5g33hCAABYiXHfeEI=\"},\"shape\":[670],\"dtype\":\"float64\",\"order\":\"little\"}],[\"temperature\",{\"type\":\"ndarray\",\"array\":{\"type\":\"bytes\",\"data\":\"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\"},\"shape\":[670],\"dtype\":\"float64\",\"order\":\"little\"}],[\"sensor_id\",[69351,69351,69351,69351,69351,69351,69351,69351,69351,69351,69351,69351,69351,69351,69351,69351,69351,69351,69351,69351,69351,69351,69351,69351,69351,69351,69351,69351,69351,69351,69351,69351,69351,69351,69351,69351,69351,69351,69351,69351,69351,69351,69351,69351,69351,69351,69351,69351,69351,69351,69351,69351,69351,69351,69351,69351,69351,69351,69351,69351,69351,69351,69351,69351,69351,69351,69351,69351,69351,69351,69351,69351,69351,69351,69351,69351,69351,69351,69351,69351,69351,69351,69351,69351,69351,69351,69351,69351,69351,69351,69351,69351,69351,69351,69351,69351,69351,69351,69351,69351,69351,69351,69351,69351,69351,69351,69351,69351,69351,69351,69351,69351,69351,69351,69351,69351,69351,69351,69351,69351,69351,69351,69351,69351,69351,69351,69351,69351,69351,69351,69351,69351,69351,69351,69351,69351,69351,69351,69351,69351,69351,69351,69351,69351,69351,69351,69351,69351,69351,69351,69351,69351,69351,69351,69351,69351,69351,69351,69351,69351,69351,69351,69351,69351,69351,69351,69351,69351,69351,69351,69351,69351,69351,69351,69351,69351,69351,69351,69351,69351,69351,69351,69351,69351,69351,69351,69351,69351,69351,69351,69351,69351,69351,69351,69351,69351,69351,69351,69351,69351,69351,69351,69351,69351,69351,69351,69351,69351,69351,69351,69351,69351,69351,69351,69351,69351,69351,69351,69351,69351,69351,69351,69351,69351,69351,69351,69351,69351,69351,69351,69351,69351,69351,69351,69351,69351,69351,69351,69351,69351,69351,69351,69351,69351,69351,69351,69351,69351,69351,69351,69351,69351,69351,69351,69351,69351,69351,69351,69351,69351,69351,69351,69351,69351,69351,69351,69351,69351,69351,69351,69351,69351,69351,69351,69351,69351,69351,69351,69351,69351,69351,69351,69351,69351,69351,69351,69351,69351,69351,69351,69351,69351,69351,69351,69351,69351,69351,69351,69351,69351,69351,69351,69351,69351,69351,69351,69351,69351,69351,69351,69351,69351,69351,69351,69351,69351,69351,69351,69351,69351,69351,69351,69351,69351,69351,69351,69351,69351,69351,69351,69351,69351,69351,69351,69351,69351,69351,69351,69351,69351,69351,69351,69351,69351,69351,69351,69351,69351,69351,69351,69351,69351,69351,69351,69351,69351,69351,69351,69351,69351,69351,69351,69351,69351,69351,69351,69351,69351,69351,69351,69351,69351,69351,69351,69351,69351,69351,69351,69351,69351,69351,69351,69351,69351,69351,69351,69351,69351,69351,69351,69351,69351,69351,69351,69351,69351,69351,69351,69351,69351,69351,69351,69351,69351,69351,69351,69351,69351,69351,69351,69351,69351,69351,69351,69351,69351,69351,69351,69351,69351,69351,69351,69351,69351,69351,69351,69351,69351,69351,69351,69351,69351,69351,69351,69351,69351,69351,69351,69351,69351,69351,69351,69351,69351,69351,69351,69351,69351,69351,69351,69351,69351,69351,69351,69351,69351,69351,69351,69351,69351,69351,69351,69351,69351,69351,69351,69351,69351,69351,69351,69351,69351,69351,69351,69351,69351,69351,69351,69351,69351,69351,69351,69351,69351,69351,69351,69351,69351,69351,69351,69351,69351,69351,69351,69351,69351,69351,69351,69351,69351,69351,69351,69351,69351,69351,69351,69351,69351,69351,69351,69351,69351,69351,69351,69351,69351,69351,69351,69351,69351,69351,69351,69351,69351,69351,69351,69351,69351,69351,69351,69351,69351,69351,69351,69351,69351,69351,69351,69351,69351,69351,69351,69351,69351,69351,69351,69351,69351,69351,69351,69351,69351,69351,69351,69351,69351,69351,69351,69351,69351,69351,69351,69351,69351,69351,69351,69351,69351,69351,69351,69351,69351,69351,69351,69351,69351,69351,69351,69351,69351,69351,69351,69351,69351,69351,69351,69351,69351,69351,69351,69351,69351,69351,69351,69351,69351,69351,69351,69351,69351,69351,69351,69351,69351,69351,69351,69351,69351,69351,69351,69351,69351,69351,69351,69351,69351,69351,69351,69351,69351,69351,69351,69351,69351,69351,69351,69351,69351,69351,69351,69351,69351,69351,69351,69351,69351,69351,69351,69351,69351,69351,69351,69351,69351,69351,69351,69351,69351,69351,69351,69351,69351,69351,69351,69351,69351,69351,69351,69351,69351,69351,69351,69351,69351,69351,69351,69351,69351,69351,69351]]]}}},\"view\":{\"type\":\"object\",\"name\":\"CDSView\",\"id\":\"p1683\",\"attributes\":{\"filter\":{\"type\":\"object\",\"name\":\"AllIndices\",\"id\":\"p1684\"}}},\"glyph\":{\"type\":\"object\",\"name\":\"Line\",\"id\":\"p1679\",\"attributes\":{\"tags\":[\"apply_ranges\"],\"x\":{\"type\":\"field\",\"field\":\"timestamp\"},\"y\":{\"type\":\"field\",\"field\":\"temperature\"},\"line_color\":\"#e5ae38\",\"line_width\":2}},\"selection_glyph\":{\"type\":\"object\",\"name\":\"Line\",\"id\":\"p1686\",\"attributes\":{\"tags\":[\"apply_ranges\"],\"x\":{\"type\":\"field\",\"field\":\"timestamp\"},\"y\":{\"type\":\"field\",\"field\":\"temperature\"},\"line_color\":\"#e5ae38\",\"line_width\":2}},\"nonselection_glyph\":{\"type\":\"object\",\"name\":\"Line\",\"id\":\"p1680\",\"attributes\":{\"tags\":[\"apply_ranges\"],\"x\":{\"type\":\"field\",\"field\":\"timestamp\"},\"y\":{\"type\":\"field\",\"field\":\"temperature\"},\"line_color\":\"#e5ae38\",\"line_alpha\":0.1,\"line_width\":2}},\"muted_glyph\":{\"type\":\"object\",\"name\":\"Line\",\"id\":\"p1681\",\"attributes\":{\"tags\":[\"apply_ranges\"],\"x\":{\"type\":\"field\",\"field\":\"timestamp\"},\"y\":{\"type\":\"field\",\"field\":\"temperature\"},\"line_color\":\"#e5ae38\",\"line_alpha\":0.2,\"line_width\":2}}}},{\"type\":\"object\",\"name\":\"GlyphRenderer\",\"id\":\"p1696\",\"attributes\":{\"name\":\"70370\",\"data_source\":{\"type\":\"object\",\"name\":\"ColumnDataSource\",\"id\":\"p1687\",\"attributes\":{\"selected\":{\"type\":\"object\",\"name\":\"Selection\",\"id\":\"p1688\",\"attributes\":{\"indices\":[],\"line_indices\":[]}},\"selection_policy\":{\"type\":\"object\",\"name\":\"UnionRenderers\",\"id\":\"p1689\"},\"data\":{\"type\":\"map\",\"entries\":[[\"timestamp\",{\"type\":\"ndarray\",\"array\":{\"type\":\"bytes\",\"data\":\"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\"},\"shape\":[696],\"dtype\":\"float64\",\"order\":\"little\"}],[\"temperature\",{\"type\":\"ndarray\",\"array\":{\"type\":\"bytes\",\"data\":\"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\"},\"shape\":[696],\"dtype\":\"float64\",\"order\":\"little\"}],[\"sensor_id\",[70370,70370,70370,70370,70370,70370,70370,70370,70370,70370,70370,70370,70370,70370,70370,70370,70370,70370,70370,70370,70370,70370,70370,70370,70370,70370,70370,70370,70370,70370,70370,70370,70370,70370,70370,70370,70370,70370,70370,70370,70370,70370,70370,70370,70370,70370,70370,70370,70370,70370,70370,70370,70370,70370,70370,70370,70370,70370,70370,70370,70370,70370,70370,70370,70370,70370,70370,70370,70370,70370,70370,70370,70370,70370,70370,70370,70370,70370,70370,70370,70370,70370,70370,70370,70370,70370,70370,70370,70370,70370,70370,70370,70370,70370,70370,70370,70370,70370,70370,70370,70370,70370,70370,70370,70370,70370,70370,70370,70370,70370,70370,70370,70370,70370,70370,70370,70370,70370,70370,70370,70370,70370,70370,70370,70370,70370,70370,70370,70370,70370,70370,70370,70370,70370,70370,70370,70370,70370,70370,70370,70370,70370,70370,70370,70370,70370,70370,70370,70370,70370,70370,70370,70370,70370,70370,70370,70370,70370,70370,70370,70370,70370,70370,70370,70370,70370,70370,70370,70370,70370,70370,70370,70370,70370,70370,70370,70370,70370,70370,70370,70370,70370,70370,70370,70370,70370,70370,70370,70370,70370,70370,70370,70370,70370,70370,70370,70370,70370,70370,70370,70370,70370,70370,70370,70370,70370,70370,70370,70370,70370,70370,70370,70370,70370,70370,70370,70370,70370,70370,70370,70370,70370,70370,70370,70370,70370,70370,70370,70370,70370,70370,70370,70370,70370,70370,70370,70370,70370,70370,70370,70370,70370,70370,70370,70370,70370,70370,70370,70370,70370,70370,70370,70370,70370,70370,70370,70370,70370,70370,70370,70370,70370,70370,70370,70370,70370,70370,70370,70370,70370,70370,70370,70370,70370,70370,70370,70370,70370,70370,70370,70370,70370,70370,70370,70370,70370,70370,70370,70370,70370,70370,70370,70370,70370,70370,70370,70370,70370,70370,70370,70370,70370,70370,70370,70370,70370,70370,70370,70370,70370,70370,70370,70370,70370,70370,70370,70370,70370,70370,70370,70370,70370,70370,70370,70370,70370,70370,70370,70370,70370,70370,70370,70370,70370,70370,70370,70370,70370,70370,70370,70370,70370,70370,70370,70370,70370,70370,70370,70370,70370,70370,70370,70370,70370,70370,70370,70370,70370,70370,70370,70370,70370,70370,70370,70370,70370,70370,70370,70370,70370,70370,70370,70370,70370,70370,70370,70370,70370,70370,70370,70370,70370,70370,70370,70370,70370,70370,70370,70370,70370,70370,70370,70370,70370,70370,70370,70370,70370,70370,70370,70370,70370,70370,70370,70370,70370,70370,70370,70370,70370,70370,70370,70370,70370,70370,70370,70370,70370,70370,70370,70370,70370,70370,70370,70370,70370,70370,70370,70370,70370,70370,70370,70370,70370,70370,70370,70370,70370,70370,70370,70370,70370,70370,70370,70370,70370,70370,70370,70370,70370,70370,70370,70370,70370,70370,70370,70370,70370,70370,70370,70370,70370,70370,70370,70370,70370,70370,70370,70370,70370,70370,70370,70370,70370,70370,70370,70370,70370,70370,70370,70370,70370,70370,70370,70370,70370,70370,70370,70370,70370,70370,70370,70370,70370,70370,70370,70370,70370,70370,70370,70370,70370,70370,70370,70370,70370,70370,70370,70370,70370,70370,70370,70370,70370,70370,70370,70370,70370,70370,70370,70370,70370,70370,70370,70370,70370,70370,70370,70370,70370,70370,70370,70370,70370,70370,70370,70370,70370,70370,70370,70370,70370,70370,70370,70370,70370,70370,70370,70370,70370,70370,70370,70370,70370,70370,70370,70370,70370,70370,70370,70370,70370,70370,70370,70370,70370,70370,70370,70370,70370,70370,70370,70370,70370,70370,70370,70370,70370,70370,70370,70370,70370,70370,70370,70370,70370,70370,70370,70370,70370,70370,70370,70370,70370,70370,70370,70370,70370,70370,70370,70370,70370,70370,70370,70370,70370,70370,70370,70370,70370,70370,70370,70370,70370,70370,70370,70370,70370,70370,70370,70370,70370,70370,70370,70370,70370,70370,70370,70370,70370,70370,70370,70370,70370,70370,70370,70370,70370,70370,70370,70370,70370,70370,70370,70370,70370,70370,70370,70370,70370,70370,70370,70370,70370,70370,70370,70370,70370,70370,70370,70370,70370,70370,70370,70370,70370,70370,70370,70370,70370,70370,70370,70370,70370,70370,70370,70370,70370,70370,70370,70370,70370,70370,70370,70370,70370,70370,70370,70370,70370,70370,70370,70370,70370,70370,70370]]]}}},\"view\":{\"type\":\"object\",\"name\":\"CDSView\",\"id\":\"p1697\",\"attributes\":{\"filter\":{\"type\":\"object\",\"name\":\"AllIndices\",\"id\":\"p1698\"}}},\"glyph\":{\"type\":\"object\",\"name\":\"Line\",\"id\":\"p1693\",\"attributes\":{\"tags\":[\"apply_ranges\"],\"x\":{\"type\":\"field\",\"field\":\"timestamp\"},\"y\":{\"type\":\"field\",\"field\":\"temperature\"},\"line_color\":\"#6d904f\",\"line_width\":2}},\"selection_glyph\":{\"type\":\"object\",\"name\":\"Line\",\"id\":\"p1700\",\"attributes\":{\"tags\":[\"apply_ranges\"],\"x\":{\"type\":\"field\",\"field\":\"timestamp\"},\"y\":{\"type\":\"field\",\"field\":\"temperature\"},\"line_color\":\"#6d904f\",\"line_width\":2}},\"nonselection_glyph\":{\"type\":\"object\",\"name\":\"Line\",\"id\":\"p1694\",\"attributes\":{\"tags\":[\"apply_ranges\"],\"x\":{\"type\":\"field\",\"field\":\"timestamp\"},\"y\":{\"type\":\"field\",\"field\":\"temperature\"},\"line_color\":\"#6d904f\",\"line_alpha\":0.1,\"line_width\":2}},\"muted_glyph\":{\"type\":\"object\",\"name\":\"Line\",\"id\":\"p1695\",\"attributes\":{\"tags\":[\"apply_ranges\"],\"x\":{\"type\":\"field\",\"field\":\"timestamp\"},\"y\":{\"type\":\"field\",\"field\":\"temperature\"},\"line_color\":\"#6d904f\",\"line_alpha\":0.2,\"line_width\":2}}}},{\"type\":\"object\",\"name\":\"GlyphRenderer\",\"id\":\"p1710\",\"attributes\":{\"name\":\"82887\",\"data_source\":{\"type\":\"object\",\"name\":\"ColumnDataSource\",\"id\":\"p1701\",\"attributes\":{\"selected\":{\"type\":\"object\",\"name\":\"Selection\",\"id\":\"p1702\",\"attributes\":{\"indices\":[],\"line_indices\":[]}},\"selection_policy\":{\"type\":\"object\",\"name\":\"UnionRenderers\",\"id\":\"p1703\"},\"data\":{\"type\":\"map\",\"entries\":[[\"timestamp\",{\"type\":\"ndarray\",\"array\":{\"type\":\"bytes\",\"data\":\"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\"},\"shape\":[696],\"dtype\":\"float64\",\"order\":\"little\"}],[\"temperature\",{\"type\":\"ndarray\",\"array\":{\"type\":\"bytes\",\"data\":\"Vp+rrdjfKEA2zTtO0ZEmQBSuR+F6FCZAfIMvTKYKIUAnMQisHNoiQDZeukkMgiBAQArXo3C9HEBTdCSX/5AZQOqVsgxxrB9AtRX7y+7JI0AAkX77OnAmQAWdNtBpEylAfGEyVTCqKkAEVg4tsh0qQAhoImx4+ilAyS+W/GL5J0Dj/DiAIIklQO6WEywjDyNARyV1ApoIIUBZ+4a1b1ggQO1RuB6F6x1Ah+tRuB6FHEBps+pztRUfQIiIiIiI6B9AL90kBoGVIEDhC5OpgtEgQMB9HThnxCFAHFpkO9/PIUC3HoXrUSgiQLR78rBQ6yNAWoY41sXtIkDlF0t+sRQkQNBpA502ACZA0wY6baCjJkDz29eBc0YoQDi0yHa+HypAJb9Y8ouVKkAO4C2QoHgrQP9l9+RhoSpAnTOitDd4KUAukKD4MeYoQJ/TBjptECdAOt9PjZfuJkD9h/Tb14EnQHNGlPYG3yZAa6DTBjpNJ0CG9NvXgXMnQOM2GsBboCZAUwWjkjqBJkC8u7u7u+smQD9XW7G/7CdAsbZif9m9KECx4emVsgwpQEly+Q/pNylA16NwPQrnKECamZmZmZkoQPgP6bevAylAyna+nxovKkDMzMzMzNwqQPuH9NvXAStAwJ8aL90kLECj1jTvOEUsQGy8dJMYhCxApHA9CtfTKkD/ZffkYaErQFZ0JJf/ECtAeMcpOpLLKEBZ8oslv1goQIFRSZ2ApihAkzoBTYSNKECkkjoBTQQoQKgNdNpAFyhAOPjCZKrgJ0Dh6ZWyDHEoQAMJih9j7idAe4MvTKYKKECx5BdLfkEoQKH4MeauJShA3NeBc0YUKEDUmuYdp2gnQMkvlvxiKSdAOEVHcvmPKECUsgxxrIspQGkr9pfdEypAAQAAAABAKkA5baDTBuoqQCQGgZVDCyxAN/jCZKpgK0Bob/CFydQpQPcoXI/CZShAQKTfvg4cJ0AhH/RsVn0mQMqhRbbz/SNAxZJfLPkVJECW/5B++zokQKz6XG3FfiRAXynLEMc6JkDXo3A9CtclQDGZKhiVVCZA0ZFc/kN6JUDgC5OpgtEkQKVwPQrXgyNAJLn8h/RbJEBU46WbxCAkQA0CK4cW2SRALfnFkl+sJUB4nKIjuXwmQBpR2ht84SZA845TdCQXKEA2PL1SliEnQFdVVVVVBSdA+MJkqmDUJ0BTBaOSOoEnQBIUP8bctSdAkV8s+cUCJkCjRbbz/dQmQK0cWmQ7XydACKwcWmQ7JUB7FK5H4eomQJLLf0i/fSZAdJMYBFaOJkBS46WbxCAnQN/d3d3dvSdAWhe30QDeJ0C0e/KwUOsmQLfRAN4CCSZABzptoNP2JEC/UpYhjvUlQLQV+8vuySZAzczMzMzMKECsqqqqqgoqQIVa07zjFCtALUMc6+I2K0CxDHGsi1stQOAtkKD4sStA4XoUrkexKkByPQrXo3ApQGN/2T152ChAkjoBTYQNKECZmZmZmQkoQOnZrPpc7SdATRWMSuoEKEDqUbgehWsnQON6FK5HoSNA30+Nl24SG0CNKO0NvjAYQJjdk4eFWhZAL5b8YskPGEAaldQJaCIaQFMnoImw4RpALyEf9GxWGUAchetRuL4aQKMBvAUSFBpAriXkg57NGUAUP8bctYQaQK8KGLbZKRxA/If029eBH0CTqYJRSZ0eQEYDeAskqCBAPzVeukkMIECE61G4HnUgQCO5/If0WyBAyAc9m1UfIEAygLdAguIfQHZ3d3d3NyBACuAtkKD4HUCxLm6jAbwaQL/BFyZTBRxAk18s+cWyG0CgzarP1VYcQET67evAORpAowG8BRIUHEAdhetRuD4ZQMb+snvysBhAEVg5tMh2GkAdp+hILv8UQDfQaQOdFhVA9P3UeOkmIUBYhjjWxW0pQPw6cM6I0itA7FG4HoXLLUCv2F92Tx4sQP8h/fZ1YC1ALBiV1AloK0Do2az6XO0oQAvXo3A9aiZAbHh6pSxDJUBPQBNhw9MjQLHh6ZWyjCNAOm2g0wYqJUB70LNZ9bkkQJzEILBy6CVAKhiV1AnoJUBFaW/whcklQNQGOm2gcyZA9gZfmEwVJUCU1AloImwlQK2t2F92zyRALfnFkl/MJUCA2T15WCglQL8OnDOitCVANO84RUfyJ0ANdNpAp00qQFrTvOMUnS1ADGgibHj6LkDSRNjw9EosQI2O5PIf0itAaQOdNtBpKkAbL90kBgEpQMoyxLEubidAxv6ye/KwJkBoA5020EknQFN0JJf/kCdAUdobfGEyKUCMuWsJ+SAoQO/u7u7u7iVAeukmMQgsJEDlP6Tfvo4jQEGC4seYOyNA61G4HoUbI0AVjErqBLQiQK1p3nGKDiRAKssQx7o4I0AXJlMFo5IiQLWBThvoZCRAqTXNO05RJ0CopE5AE2EpQGGYTBWMyipA1aNwPQoXLEA2iUFg5dAsQLIMcayL2ypAI451cRsNK0AoXI/C9QgnQPLSTWIQWCRAsHJoke18IUB0RpT2Bl8fQD2bVZ+rrR1A0wY6baATHUCbd5yiI7kcQApoImx4ehxARIts5/upIEBPG+i0gQ4hQP5l9+RhISJASC7/If32IkB4CyQofgwiQOtRuB6F6yJAW0I+6NksIkD7y+7Jw8IjQNlfdk8eliNAlfxiyS92JkBGUPwYc9cpQKyCUUmdgChAjFN0JJd/KEBERERERIQoQKUsQxzrYiZA8RZIUPyYJUBW7C+7J48jQMP1KFyPwiBA4xdLfrHEH0CrqqqqqiofQG40gLdAgh5Ad76fGi/dHEDotIFOG8gbQLSEfNCzWR1AhhbZzvdTG0CRXP5D+u0ZQCAiIiIiwhlAHKfoSC7/GEAOT6+UZYgXQMoQx7q4jRlAgLHkF0v+FUBG4XoUrkcWQA6+MJkqmCVAKqkT0ERYJUAZS36x5KckQIiIiIiIqCNAXP5D+u1rJUB3vp8aL90jQCNKe4MvzCVAzMzMzMyMJkDE9Shcj7IkQJb2Bl+YzCJApJI6AU0EIECf0wY6bWAdQA21pnnHKRxAuIR80LNZG0AT8kHPZtUZQKVwPQrXQxlAbzSAt0CCGkDOiNLe4AsbQKMBvAUSFBxA5RdLfrFEHUCcVZ+rrdgcQHLXEvJBzxxA3wuTqYJRHUDbQKcNdJofQDerPldbsSFASS7/If32IkBSJ6CJsGEjQJYhjnVxmyRA/WLJL5ZMJUBp3nGKjmQmQACRfvs6cCdAN2dEaW9wKkANdNpAp10pQGOh1jTvuChAX7pJDAIrKUCkAbwFEpQpQJNfLPnFgilAtmJ/2T15KUDkNhrAW6ApQGHl0CLbeSlAXNxGA3gLKkDVBjptoNMnQK5H4XoULidA/GX35GGhKECkcD0K16MoQDXQaQOdhilAcxsN4C0QKUDjehSuR2EpQK36XG3F/ilAoXA9CtczLEDxFkhQ/BguQMh2vp8ary9AGJXUCWgiMEDbiv1l9+QwQNMGOm2g8y5A7OvAOSNKLkDEsS5uo4EqQD+k374OnClAseQXS34RK0A/NV66SQwsQLK/7J48LCxAQxNhw9MrK0AfhetRuJ4qQCi/WPKLhStAzFTBqKROK0Akl/+QfnssQITJVMGoJCxAV+wvuyePK0B/seQXS54rQA6cM6K0ty1A7snDQq1pLED0bFZ9rrYqQI0lv1jyyyxAK4cW2c43MEAnoImw4SkxQMzIgygbfTJAk18s+cUKMkCBc0aU9sYyQL1SliGOtTFAdk8eFmqNMECpqqqqqjovQJzEILByaC5Ar3Joke18LUDjehSuR2EtQL1Y8oslTyxAUWuad5yiLUA2PL1SliEtQMUpOpLL/ypADwu1pnnHKUB8FK5H4coqQICVQ4ts5yhAoDws1JpmKEBuNIC3QIInQMP1KFyPIiVAo3A9CtejI0As9pfdk4clQO7rwDkjyidAOcEy8iDKKEDplbIMcawpQEhQ/BhzVylAescpOpLLK0DB9ShcjwIqQGXV52or9ilA5IOezarPKkDvOEVHcvkpQIAmwoanVylAOW2g0wYaKkBkO99PjZcqQGEyVTAqKShAIGPuWkK+JUBVVVVVVaUkQM0ZUdobfCNA7MA5I0p7JEDciv1l9+QlQIXrUbgeZSZAhqdXyjLEJ0DE0ytlGWIpQEymCkYl9SlAaZHtfD81KUBwPQrXowArQBauR+F6FCxAqaROQBPhK0C8Jw8LtSYsQOrLSqj68yxAuh6F61E4K0AaL90kBgErQHhYqDXNOypAj1N0JJd/KUCMJb9Y8qsnQL10kxgEVidAKX6MuWsJKEDUVuwvuycoQPZpbviuSShADZOpglFJKECAt0CC4scoQJKpglFJHSlAxNMrZRliKUBdLPnFkj8qQO84RUdyeSpARbbz/dT4KkAIih9j7toqQJkXdcfAcStAeE8eFmrNK0CTXP5D+m0qQEjhehSuRy9Ak4eFWtM8LkBZ8oslv5gtQIBRSZ2AJi5AOEVHcvkPL0CsHFpkO98xQOXQItv5vjBAYckvlvwyLkAd6+I2GkAtQOPHmLuWECpABVYOLbIdKkAs+cWSX2woQJchjnVxmylA6Iwo7Q0+KECqPldbsb8mQKuqqqqquiVAY3/ZPXnYJUBN845TdKQmQKZXyjLEMSZAk18s+cVCJ0CTy39Iv/0mQDaJQWDl0CZAxEKtad5xJkD7xZJfLDkmQNgS8kHPZidAcYEExY8xKECbCBueXikrQASdNtBp0yxALv8h/fb1K0DJMsSxLm4qQB+OdXEbjSxAk18s+cXCLUCXbhKDwMosQM3uycNCrSlAT0ATYcPTKEAhIiIiInInQIYW2c730yZAzqrP1VbsJUCKH2PuWkIkQJNc/kP6bSNAPQrXo3BNIkCxne+nxsshQHE9CtejcCFA1HjpJjGIIECLJb9Y8rsgQKut2F92TyJAqDXNO07RIkCaKhiV1IkiQMovlvxiGSVA001iEFg5KEDvhclUwagqQBWuR+F6ZC5AexSuR+GaL0D229eBc8YvQNZ46SYxCC5A029fB86ZLUDO7snDQq0qQHE9CtejUChAXSBB8WPMJ0Clm8QgsHInQF26SQwCqyZAMJb8Ysk/J0DsDb4wmSonQDeJQWDlUCZAmwgbnl4pJUBjyS+W/KIkQGAHzhlRWiRAUUmdgCbCI0BU46WbxKAjQHd3d3d3dyNATMgHPZtVIkCwlGWIY10hQEFg5dAi2yFA/7J78rBQIkAs+cWSX1wjQG0J+aBnsyRAFtnO91PjJUDSAN4CCQopQN3d3d3dvSpAJeSDns2qKUD8qfHSTWIoQKh5xyk6EihAvScPC7UmKECdNtBpAz0nQDojSnuDryZA6gQ0ETa8JkA/CtejcD0lQPjFkl8s6SRAfoy5awl5JEAlwoanV0ojQMrDQq1p3iNABJ020GnzJEC0e/KwUGskQPcx5q4l5CRACtejcD0KJECX/GLJL0YkQDj4wmSq4CNAb4EExY+xJEBxgQTFj7EmQNuK/WX3ZChAqA102kCXJkA3qz5XW7EfQA1xrIvbaBFAXW3F/rJ7EkCX/GLJL3YcQOauJeSDnhdAdEaU9gZfFUDxhclUwagWQIFOG+i04RRAY+5aQj7oEkBNpgpGJXUSQGrecYqO5BJAyS+W/GIJFkBUfa62Yn8WQHctIR/0bBZAUrgehetRFUA/CtejcH0XQG3F/rJ78hhAoBov3SQGGECU9gZfmEwcQOlRuB6FSyxAgCbChqfXJ0DMf0i/fR0nQHwUrkfhiidA/2LJL5YcKECJY13cRoMmQBov3SQGgSVAtmJ/2T35IUB0kxgEVg4fQLWBThvotBxAs/P91HjpGUBJ4XoUrkcZQDPEsS5uoxZAexSuR+H6FkADeAskKH4WQCQofoy5axVA7nw/NV66E0CrqqqqquoTQGbV52or9hRAliGOdXEbGEADmggbnl4UQCEiIiIiAhVAwMqhRbbzFUBF2PD0SlkZQO04RUdy+R5AehSuR+HaIUCWIY51cRsiQHRxGw3grSZAtIR80LNZJkA5baDTBtomQJ1eKcsQxyZAjzF3LSGfJUBF+u3rwLkkQMFkqmBU0iFANtBpA53WIEB46SYxCKwcQJ8zorQ3+BhAv8EXJlMFF0B7FK5H4doVQH/ZPXlYqBRA2l92Tx4WFUCqqqqqqkoTQE0b6LSBTg5AmiGOdXEbC0CtYFRSJ6ANQLYV+8vuyQ9AP6cNdNqAD0Bh5dAi2/kIQDReukkMAgVATmIQWDm0EEApXI/C9agWQKg1zTtO0RhAWMoyxLEuGkB9HThnRGkXQC35xZJfTBVA4+mVsgxxFEDl8h/Sb18TQIEmwoanVxFAkV8s+cUSD0Cq8dJNYhAKQG0J+aBnswZALGUZ4lgXBUDv7u7u7i4GQCTb+X5qvARAuK8D54woAUA0xLEubqMDQDltoNMGOgVAXNxGA3gLBkBOQBNhw9MBQEQc6+I2GgBA57SBThsoAUAVjErqBDQDQBHHuriNBgZAgSbChqdXEUCpglFJnYATQOUXS36xRBVANDMzMzNzF0BP845TdCQbQFJJnYAmwhtAdXd3d3d3HEDf4AuTqYIYQJT2Bl+YTBlAFK5H4XoUF0BFRERERMQVQLfRAN4CCRZABDQRNjy9FkBuEoPAyqEXQEREREREJBRANl66SQwCEkANXRHnxwEOQLyWkA96NgdAcT0K16PwBEDmHafoSC4JQC7UmuYdpw5AEum3rwPnDkAwlvxiyY8RQFgXt9EA3hpAyCk6ksv/IEBqTfOOU/QkQDCW/GLJTyVAmuYdp+jIJkBfbcX+svsoQLzjFB3J5ShAFK5H4XpkJ0BlZmZmZuYmQHH5D+m3ryRA/WX35GEhJEDVo3A9CucjQHZPHhZqTSRAwH0dOGdEJUB9rrZif9klQJLtfD813iVA84slv1jyJUAOnDOitDcmQJOHhVrTPCZA4U+Nl26SJUDrUbgehdskQGDl0CLbeSRAZvfkYaHWIkAhsHJokW0jQE4VjErqhCVAqaqqqqqKKEBPQBNhw1MpQMgHPZtVnyhAHMnlP6TfJ0DIL5b8YokoQFIFo5I6gSlA1FbsL7snK0A6tMh2vh8rQJuZmZmZ6SlAyQc9m1WfKUBX7C+7J48pQBx8YTJVMClAsi5uowE8J0Dw7u7u7m4nQGDl0CLb+SZAGpXUCWgiJkBNhA1PrxQmQG2g0wY6zSVAG55eKcsQJkBEPujZrHomQKkT0ETY8CZAlF8s+cXCJkDfcYqO5HInQNGzWfW5WilAA+eMKO2NKUCf0wY6bVAqQDttoNMGiiZAlv+Qfvs6J0AcfGEyVTAnQPZKWYY41ilAf7HkF0u+JkDFjzF3LSEmQK1p3nGKDiRAveMUHcnlIUAREREREUEhQNskBoGVQx9AcYqO5PIfGkASFD/G3LUXQOQXS36xxBVA\"},\"shape\":[696],\"dtype\":\"float64\",\"order\":\"little\"}],[\"sensor_id\",[82887,82887,82887,82887,82887,82887,82887,82887,82887,82887,82887,82887,82887,82887,82887,82887,82887,82887,82887,82887,82887,82887,82887,82887,82887,82887,82887,82887,82887,82887,82887,82887,82887,82887,82887,82887,82887,82887,82887,82887,82887,82887,82887,82887,82887,82887,82887,82887,82887,82887,82887,82887,82887,82887,82887,82887,82887,82887,82887,82887,82887,82887,82887,82887,82887,82887,82887,82887,82887,82887,82887,82887,82887,82887,82887,82887,82887,82887,82887,82887,82887,82887,82887,82887,82887,82887,82887,82887,82887,82887,82887,82887,82887,82887,82887,82887,82887,82887,82887,82887,82887,82887,82887,82887,82887,82887,82887,82887,82887,82887,82887,82887,82887,82887,82887,82887,82887,82887,82887,82887,82887,82887,82887,82887,82887,82887,82887,82887,82887,82887,82887,82887,82887,82887,82887,82887,82887,82887,82887,82887,82887,82887,82887,82887,82887,82887,82887,82887,82887,82887,82887,82887,82887,82887,82887,82887,82887,82887,82887,82887,82887,82887,82887,82887,82887,82887,82887,82887,82887,82887,82887,82887,82887,82887,82887,82887,82887,82887,82887,82887,82887,82887,82887,82887,82887,82887,82887,82887,82887,82887,82887,82887,82887,82887,82887,82887,82887,82887,82887,82887,82887,82887,82887,82887,82887,82887,82887,82887,82887,82887,82887,82887,82887,82887,82887,82887,82887,82887,82887,82887,82887,82887,82887,82887,82887,82887,82887,82887,82887,82887,82887,82887,82887,82887,82887,82887,82887,82887,82887,82887,82887,82887,82887,82887,82887,82887,82887,82887,82887,82887,82887,82887,82887,82887,82887,82887,82887,82887,82887,82887,82887,82887,82887,82887,82887,82887,82887,82887,82887,82887,82887,82887,82887,82887,82887,82887,82887,82887,82887,82887,82887,82887,82887,82887,82887,82887,82887,82887,82887,82887,82887,82887,82887,82887,82887,82887,82887,82887,82887,82887,82887,82887,82887,82887,82887,82887,82887,82887,82887,82887,82887,82887,82887,82887,82887,82887,82887,82887,82887,82887,82887,82887,82887,82887,82887,82887,82887,82887,82887,82887,82887,82887,82887,82887,82887,82887,82887,82887,82887,82887,82887,82887,82887,82887,82887,82887,82887,82887,82887,82887,82887,82887,82887,82887,82887,82887,82887,82887,82887,82887,82887,82887,82887,82887,82887,82887,82887,82887,82887,82887,82887,82887,82887,82887,82887,82887,82887,82887,82887,82887,82887,82887,82887,82887,82887,82887,82887,82887,82887,82887,82887,82887,82887,82887,82887,82887,82887,82887,82887,82887,82887,82887,82887,82887,82887,82887,82887,82887,82887,82887,82887,82887,82887,82887,82887,82887,82887,82887,82887,82887,82887,82887,82887,82887,82887,82887,82887,82887,82887,82887,82887,82887,82887,82887,82887,82887,82887,82887,82887,82887,82887,82887,82887,82887,82887,82887,82887,82887,82887,82887,82887,82887,82887,82887,82887,82887,82887,82887,82887,82887,82887,82887,82887,82887,82887,82887,82887,82887,82887,82887,82887,82887,82887,82887,82887,82887,82887,82887,82887,82887,82887,82887,82887,82887,82887,82887,82887,82887,82887,82887,82887,82887,82887,82887,82887,82887,82887,82887,82887,82887,82887,82887,82887,82887,82887,82887,82887,82887,82887,82887,82887,82887,82887,82887,82887,82887,82887,82887,82887,82887,82887,82887,82887,82887,82887,82887,82887,82887,82887,82887,82887,82887,82887,82887,82887,82887,82887,82887,82887,82887,82887,82887,82887,82887,82887,82887,82887,82887,82887,82887,82887,82887,82887,82887,82887,82887,82887,82887,82887,82887,82887,82887,82887,82887,82887,82887,82887,82887,82887,82887,82887,82887,82887,82887,82887,82887,82887,82887,82887,82887,82887,82887,82887,82887,82887,82887,82887,82887,82887,82887,82887,82887,82887,82887,82887,82887,82887,82887,82887,82887,82887,82887,82887,82887,82887,82887,82887,82887,82887,82887,82887,82887,82887,82887,82887,82887,82887,82887,82887,82887,82887,82887,82887,82887,82887,82887,82887,82887,82887,82887,82887,82887,82887,82887,82887,82887,82887,82887,82887,82887,82887,82887,82887,82887,82887,82887,82887,82887,82887,82887,82887,82887,82887,82887,82887,82887,82887,82887,82887,82887,82887,82887,82887,82887,82887,82887,82887,82887,82887,82887,82887,82887,82887,82887,82887,82887,82887,82887,82887,82887,82887,82887,82887,82887,82887,82887,82887,82887,82887,82887,82887,82887,82887,82887,82887,82887]]]}}},\"view\":{\"type\":\"object\",\"name\":\"CDSView\",\"id\":\"p1711\",\"attributes\":{\"filter\":{\"type\":\"object\",\"name\":\"AllIndices\",\"id\":\"p1712\"}}},\"glyph\":{\"type\":\"object\",\"name\":\"Line\",\"id\":\"p1707\",\"attributes\":{\"tags\":[\"apply_ranges\"],\"x\":{\"type\":\"field\",\"field\":\"timestamp\"},\"y\":{\"type\":\"field\",\"field\":\"temperature\"},\"line_color\":\"#8b8b8b\",\"line_width\":2}},\"selection_glyph\":{\"type\":\"object\",\"name\":\"Line\",\"id\":\"p1714\",\"attributes\":{\"tags\":[\"apply_ranges\"],\"x\":{\"type\":\"field\",\"field\":\"timestamp\"},\"y\":{\"type\":\"field\",\"field\":\"temperature\"},\"line_color\":\"#8b8b8b\",\"line_width\":2}},\"nonselection_glyph\":{\"type\":\"object\",\"name\":\"Line\",\"id\":\"p1708\",\"attributes\":{\"tags\":[\"apply_ranges\"],\"x\":{\"type\":\"field\",\"field\":\"timestamp\"},\"y\":{\"type\":\"field\",\"field\":\"temperature\"},\"line_color\":\"#8b8b8b\",\"line_alpha\":0.1,\"line_width\":2}},\"muted_glyph\":{\"type\":\"object\",\"name\":\"Line\",\"id\":\"p1709\",\"attributes\":{\"tags\":[\"apply_ranges\"],\"x\":{\"type\":\"field\",\"field\":\"timestamp\"},\"y\":{\"type\":\"field\",\"field\":\"temperature\"},\"line_color\":\"#8b8b8b\",\"line_alpha\":0.2,\"line_width\":2}}}}],\"toolbar\":{\"type\":\"object\",\"name\":\"Toolbar\",\"id\":\"p1610\",\"attributes\":{\"tools\":[{\"type\":\"object\",\"name\":\"WheelZoomTool\",\"id\":\"p1587\",\"attributes\":{\"tags\":[\"hv_created\"],\"renderers\":\"auto\",\"zoom_together\":\"none\"}},{\"type\":\"object\",\"name\":\"HoverTool\",\"id\":\"p1588\",\"attributes\":{\"tags\":[\"hv_created\"],\"renderers\":[{\"id\":\"p1653\"},{\"id\":\"p1668\"},{\"id\":\"p1682\"},{\"id\":\"p1696\"},{\"id\":\"p1710\"}],\"tooltips\":[[\"sensor_id\",\"@{sensor_id}\"],[\"timestamp\",\"@{timestamp}{%F %T}\"],[\"temperature\",\"@{temperature}\"]],\"formatters\":{\"type\":\"map\",\"entries\":[[\"@{timestamp}\",\"datetime\"]]}}},{\"type\":\"object\",\"name\":\"SaveTool\",\"id\":\"p1635\"},{\"type\":\"object\",\"name\":\"PanTool\",\"id\":\"p1636\"},{\"type\":\"object\",\"name\":\"BoxZoomTool\",\"id\":\"p1637\",\"attributes\":{\"overlay\":{\"type\":\"object\",\"name\":\"BoxAnnotation\",\"id\":\"p1638\",\"attributes\":{\"syncable\":false,\"level\":\"overlay\",\"visible\":false,\"left\":{\"type\":\"number\",\"value\":\"nan\"},\"right\":{\"type\":\"number\",\"value\":\"nan\"},\"top\":{\"type\":\"number\",\"value\":\"nan\"},\"bottom\":{\"type\":\"number\",\"value\":\"nan\"},\"left_units\":\"canvas\",\"right_units\":\"canvas\",\"top_units\":\"canvas\",\"bottom_units\":\"canvas\",\"line_color\":\"black\",\"line_alpha\":1.0,\"line_width\":2,\"line_dash\":[4,4],\"fill_color\":\"lightgrey\",\"fill_alpha\":0.5}}}},{\"type\":\"object\",\"name\":\"ResetTool\",\"id\":\"p1643\"}],\"active_drag\":{\"id\":\"p1636\"},\"active_scroll\":{\"id\":\"p1587\"}}},\"left\":[{\"type\":\"object\",\"name\":\"LinearAxis\",\"id\":\"p1630\",\"attributes\":{\"ticker\":{\"type\":\"object\",\"name\":\"BasicTicker\",\"id\":\"p1631\",\"attributes\":{\"mantissas\":[1,2,5]}},\"formatter\":{\"type\":\"object\",\"name\":\"BasicTickFormatter\",\"id\":\"p1632\"},\"axis_label\":\"temperature\",\"major_label_policy\":{\"type\":\"object\",\"name\":\"AllLabels\",\"id\":\"p1633\"}}}],\"right\":[{\"type\":\"object\",\"name\":\"Legend\",\"id\":\"p1656\",\"attributes\":{\"location\":[0,0],\"title\":\"sensor_id\",\"click_policy\":\"mute\",\"items\":[{\"type\":\"object\",\"name\":\"LegendItem\",\"id\":\"p1657\",\"attributes\":{\"label\":{\"type\":\"value\",\"value\":\"48882\"},\"renderers\":[{\"id\":\"p1653\"}]}},{\"type\":\"object\",\"name\":\"LegendItem\",\"id\":\"p1671\",\"attributes\":{\"label\":{\"type\":\"value\",\"value\":\"55277\"},\"renderers\":[{\"id\":\"p1668\"}]}},{\"type\":\"object\",\"name\":\"LegendItem\",\"id\":\"p1685\",\"attributes\":{\"label\":{\"type\":\"value\",\"value\":\"69351\"},\"renderers\":[{\"id\":\"p1682\"}]}},{\"type\":\"object\",\"name\":\"LegendItem\",\"id\":\"p1699\",\"attributes\":{\"label\":{\"type\":\"value\",\"value\":\"70370\"},\"renderers\":[{\"id\":\"p1696\"}]}},{\"type\":\"object\",\"name\":\"LegendItem\",\"id\":\"p1713\",\"attributes\":{\"label\":{\"type\":\"value\",\"value\":\"82887\"},\"renderers\":[{\"id\":\"p1710\"}]}}]}}],\"below\":[{\"type\":\"object\",\"name\":\"DatetimeAxis\",\"id\":\"p1613\",\"attributes\":{\"ticker\":{\"type\":\"object\",\"name\":\"DatetimeTicker\",\"id\":\"p1614\",\"attributes\":{\"num_minor_ticks\":5,\"tickers\":[{\"type\":\"object\",\"name\":\"AdaptiveTicker\",\"id\":\"p1615\",\"attributes\":{\"num_minor_ticks\":0,\"mantissas\":[1,2,5],\"max_interval\":500.0}},{\"type\":\"object\",\"name\":\"AdaptiveTicker\",\"id\":\"p1616\",\"attributes\":{\"num_minor_ticks\":0,\"base\":60,\"mantissas\":[1,2,5,10,15,20,30],\"min_interval\":1000.0,\"max_interval\":1800000.0}},{\"type\":\"object\",\"name\":\"AdaptiveTicker\",\"id\":\"p1617\",\"attributes\":{\"num_minor_ticks\":0,\"base\":24,\"mantissas\":[1,2,4,6,8,12],\"min_interval\":3600000.0,\"max_interval\":43200000.0}},{\"type\":\"object\",\"name\":\"DaysTicker\",\"id\":\"p1618\",\"attributes\":{\"days\":[1,2,3,4,5,6,7,8,9,10,11,12,13,14,15,16,17,18,19,20,21,22,23,24,25,26,27,28,29,30,31]}},{\"type\":\"object\",\"name\":\"DaysTicker\",\"id\":\"p1619\",\"attributes\":{\"days\":[1,4,7,10,13,16,19,22,25,28]}},{\"type\":\"object\",\"name\":\"DaysTicker\",\"id\":\"p1620\",\"attributes\":{\"days\":[1,8,15,22]}},{\"type\":\"object\",\"name\":\"DaysTicker\",\"id\":\"p1621\",\"attributes\":{\"days\":[1,15]}},{\"type\":\"object\",\"name\":\"MonthsTicker\",\"id\":\"p1622\",\"attributes\":{\"months\":[0,1,2,3,4,5,6,7,8,9,10,11]}},{\"type\":\"object\",\"name\":\"MonthsTicker\",\"id\":\"p1623\",\"attributes\":{\"months\":[0,2,4,6,8,10]}},{\"type\":\"object\",\"name\":\"MonthsTicker\",\"id\":\"p1624\",\"attributes\":{\"months\":[0,4,8]}},{\"type\":\"object\",\"name\":\"MonthsTicker\",\"id\":\"p1625\",\"attributes\":{\"months\":[0,6]}},{\"type\":\"object\",\"name\":\"YearsTicker\",\"id\":\"p1626\"}]}},\"formatter\":{\"type\":\"object\",\"name\":\"DatetimeTickFormatter\",\"id\":\"p1627\"},\"axis_label\":\"timestamp\",\"major_label_policy\":{\"type\":\"object\",\"name\":\"AllLabels\",\"id\":\"p1628\"}}}],\"center\":[{\"type\":\"object\",\"name\":\"Grid\",\"id\":\"p1629\",\"attributes\":{\"axis\":{\"id\":\"p1613\"},\"grid_line_color\":null}},{\"type\":\"object\",\"name\":\"Grid\",\"id\":\"p1634\",\"attributes\":{\"dimension\":1,\"axis\":{\"id\":\"p1630\"},\"grid_line_color\":null}}],\"min_border_top\":10,\"min_border_bottom\":10,\"min_border_left\":10,\"min_border_right\":10,\"output_backend\":\"webgl\"}},{\"type\":\"object\",\"name\":\"Spacer\",\"id\":\"p1716\",\"attributes\":{\"name\":\"HSpacer02008\",\"stylesheets\":[\"\\n:host(.pn-loading):before, .pn-loading:before {\\n  background-color: #c3c3c3;\\n  mask-size: auto calc(min(50%, 400px));\\n  -webkit-mask-size: auto calc(min(50%, 400px));\\n}\",{\"id\":\"p1580\"},{\"id\":\"p1578\"},{\"id\":\"p1579\"}],\"margin\":0,\"sizing_mode\":\"stretch_width\",\"align\":\"start\"}}]}}],\"defs\":[{\"type\":\"model\",\"name\":\"ReactiveHTML1\"},{\"type\":\"model\",\"name\":\"FlexBox1\",\"properties\":[{\"name\":\"align_content\",\"kind\":\"Any\",\"default\":\"flex-start\"},{\"name\":\"align_items\",\"kind\":\"Any\",\"default\":\"flex-start\"},{\"name\":\"flex_direction\",\"kind\":\"Any\",\"default\":\"row\"},{\"name\":\"flex_wrap\",\"kind\":\"Any\",\"default\":\"wrap\"},{\"name\":\"gap\",\"kind\":\"Any\",\"default\":\"\"},{\"name\":\"justify_content\",\"kind\":\"Any\",\"default\":\"flex-start\"}]},{\"type\":\"model\",\"name\":\"FloatPanel1\",\"properties\":[{\"name\":\"config\",\"kind\":\"Any\",\"default\":{\"type\":\"map\"}},{\"name\":\"contained\",\"kind\":\"Any\",\"default\":true},{\"name\":\"position\",\"kind\":\"Any\",\"default\":\"right-top\"},{\"name\":\"offsetx\",\"kind\":\"Any\",\"default\":null},{\"name\":\"offsety\",\"kind\":\"Any\",\"default\":null},{\"name\":\"theme\",\"kind\":\"Any\",\"default\":\"primary\"},{\"name\":\"status\",\"kind\":\"Any\",\"default\":\"normalized\"}]},{\"type\":\"model\",\"name\":\"GridStack1\",\"properties\":[{\"name\":\"mode\",\"kind\":\"Any\",\"default\":\"warn\"},{\"name\":\"ncols\",\"kind\":\"Any\",\"default\":null},{\"name\":\"nrows\",\"kind\":\"Any\",\"default\":null},{\"name\":\"allow_resize\",\"kind\":\"Any\",\"default\":true},{\"name\":\"allow_drag\",\"kind\":\"Any\",\"default\":true},{\"name\":\"state\",\"kind\":\"Any\",\"default\":[]}]},{\"type\":\"model\",\"name\":\"drag1\",\"properties\":[{\"name\":\"slider_width\",\"kind\":\"Any\",\"default\":5},{\"name\":\"slider_color\",\"kind\":\"Any\",\"default\":\"black\"},{\"name\":\"value\",\"kind\":\"Any\",\"default\":50}]},{\"type\":\"model\",\"name\":\"click1\",\"properties\":[{\"name\":\"terminal_output\",\"kind\":\"Any\",\"default\":\"\"},{\"name\":\"debug_name\",\"kind\":\"Any\",\"default\":\"\"},{\"name\":\"clears\",\"kind\":\"Any\",\"default\":0}]},{\"type\":\"model\",\"name\":\"FastWrapper1\",\"properties\":[{\"name\":\"object\",\"kind\":\"Any\",\"default\":null},{\"name\":\"style\",\"kind\":\"Any\",\"default\":null}]},{\"type\":\"model\",\"name\":\"NotificationAreaBase1\",\"properties\":[{\"name\":\"js_events\",\"kind\":\"Any\",\"default\":{\"type\":\"map\"}},{\"name\":\"position\",\"kind\":\"Any\",\"default\":\"bottom-right\"},{\"name\":\"_clear\",\"kind\":\"Any\",\"default\":0}]},{\"type\":\"model\",\"name\":\"NotificationArea1\",\"properties\":[{\"name\":\"js_events\",\"kind\":\"Any\",\"default\":{\"type\":\"map\"}},{\"name\":\"notifications\",\"kind\":\"Any\",\"default\":[]},{\"name\":\"position\",\"kind\":\"Any\",\"default\":\"bottom-right\"},{\"name\":\"_clear\",\"kind\":\"Any\",\"default\":0},{\"name\":\"types\",\"kind\":\"Any\",\"default\":[{\"type\":\"map\",\"entries\":[[\"type\",\"warning\"],[\"background\",\"#ffc107\"],[\"icon\",{\"type\":\"map\",\"entries\":[[\"className\",\"fas fa-exclamation-triangle\"],[\"tagName\",\"i\"],[\"color\",\"white\"]]}]]},{\"type\":\"map\",\"entries\":[[\"type\",\"info\"],[\"background\",\"#007bff\"],[\"icon\",{\"type\":\"map\",\"entries\":[[\"className\",\"fas fa-info-circle\"],[\"tagName\",\"i\"],[\"color\",\"white\"]]}]]}]}]},{\"type\":\"model\",\"name\":\"Notification\",\"properties\":[{\"name\":\"background\",\"kind\":\"Any\",\"default\":null},{\"name\":\"duration\",\"kind\":\"Any\",\"default\":3000},{\"name\":\"icon\",\"kind\":\"Any\",\"default\":null},{\"name\":\"message\",\"kind\":\"Any\",\"default\":\"\"},{\"name\":\"notification_type\",\"kind\":\"Any\",\"default\":null},{\"name\":\"_destroyed\",\"kind\":\"Any\",\"default\":false}]},{\"type\":\"model\",\"name\":\"TemplateActions1\",\"properties\":[{\"name\":\"open_modal\",\"kind\":\"Any\",\"default\":0},{\"name\":\"close_modal\",\"kind\":\"Any\",\"default\":0}]},{\"type\":\"model\",\"name\":\"BootstrapTemplateActions1\",\"properties\":[{\"name\":\"open_modal\",\"kind\":\"Any\",\"default\":0},{\"name\":\"close_modal\",\"kind\":\"Any\",\"default\":0}]},{\"type\":\"model\",\"name\":\"TemplateEditor1\",\"properties\":[{\"name\":\"layout\",\"kind\":\"Any\",\"default\":[]}]},{\"type\":\"model\",\"name\":\"MaterialTemplateActions1\",\"properties\":[{\"name\":\"open_modal\",\"kind\":\"Any\",\"default\":0},{\"name\":\"close_modal\",\"kind\":\"Any\",\"default\":0}]},{\"type\":\"model\",\"name\":\"copy_to_clipboard1\",\"properties\":[{\"name\":\"fill\",\"kind\":\"Any\",\"default\":\"none\"},{\"name\":\"value\",\"kind\":\"Any\",\"default\":null}]}]}};\n",
       "  var render_items = [{\"docid\":\"b7f3c90d-20cc-4d03-bbed-e48eda13fba7\",\"roots\":{\"p1577\":\"c289f556-19b9-45da-a0b2-49dcc487ce8c\"},\"root_ids\":[\"p1577\"]}];\n",
       "  var docs = Object.values(docs_json)\n",
       "  if (!docs) {\n",
       "    return\n",
       "  }\n",
       "  const py_version = docs[0].version.replace('rc', '-rc.').replace('.dev', '-dev.')\n",
       "  async function embed_document(root) {\n",
       "    var Bokeh = get_bokeh(root)\n",
       "    await Bokeh.embed.embed_items_notebook(docs_json, render_items);\n",
       "    for (const render_item of render_items) {\n",
       "      for (const root_id of render_item.root_ids) {\n",
       "\tconst id_el = document.getElementById(root_id)\n",
       "\tif (id_el.children.length && id_el.children[0].hasAttribute('data-root-id')) {\n",
       "\t  const root_el = id_el.children[0]\n",
       "\t  root_el.id = root_el.id + '-rendered'\n",
       "\t  for (const child of root_el.children) {\n",
       "            // Ensure JupyterLab does not capture keyboard shortcuts\n",
       "            // see: https://jupyterlab.readthedocs.io/en/4.1.x/extension/notebook.html#keyboard-interaction-model\n",
       "\t    child.setAttribute('data-lm-suppress-shortcuts', 'true')\n",
       "\t  }\n",
       "\t}\n",
       "      }\n",
       "    }\n",
       "  }\n",
       "  function get_bokeh(root) {\n",
       "    if (root.Bokeh === undefined) {\n",
       "      return null\n",
       "    } else if (root.Bokeh.version !== py_version) {\n",
       "      if (root.Bokeh.versions === undefined || !root.Bokeh.versions.has(py_version)) {\n",
       "\treturn null\n",
       "      }\n",
       "      return root.Bokeh.versions.get(py_version);\n",
       "    } else if (root.Bokeh.version === py_version) {\n",
       "      return root.Bokeh\n",
       "    }\n",
       "    return null\n",
       "  }\n",
       "  function is_loaded(root) {\n",
       "    var Bokeh = get_bokeh(root)\n",
       "    return (Bokeh != null && Bokeh.Panel !== undefined)\n",
       "  }\n",
       "  if (is_loaded(root)) {\n",
       "    embed_document(root);\n",
       "  } else {\n",
       "    var attempts = 0;\n",
       "    var timer = setInterval(function(root) {\n",
       "      if (is_loaded(root)) {\n",
       "        clearInterval(timer);\n",
       "        embed_document(root);\n",
       "      } else if (document.readyState == \"complete\") {\n",
       "        attempts++;\n",
       "        if (attempts > 200) {\n",
       "          clearInterval(timer);\n",
       "\t  var Bokeh = get_bokeh(root)\n",
       "\t  if (Bokeh == null || Bokeh.Panel == null) {\n",
       "            console.warn(\"Panel: ERROR: Unable to run Panel code because Bokeh or Panel library is missing\");\n",
       "\t  } else {\n",
       "\t    console.warn(\"Panel: WARNING: Attempting to render but not all required libraries could be resolved.\")\n",
       "\t    embed_document(root)\n",
       "\t  }\n",
       "        }\n",
       "      }\n",
       "    }, 25, root)\n",
       "  }\n",
       "})(window);</script>"
      ],
      "text/plain": [
       ":NdOverlay   [sensor_id]\n",
       "   :Curve   [timestamp]   (temperature)"
      ]
     },
     "execution_count": 23,
     "metadata": {
      "application/vnd.holoviews_exec.v0+json": {
       "id": "p1577"
      }
     },
     "output_type": "execute_result"
    }
   ],
   "source": [
    "plot_df.hvplot.line(x='timestamp', y=['temperature'], by = 'sensor_id', width = 800, height = 400)"
   ]
  },
  {
   "cell_type": "code",
   "execution_count": null,
   "metadata": {},
   "outputs": [],
   "source": []
  },
  {
   "cell_type": "code",
   "execution_count": null,
   "metadata": {},
   "outputs": [],
   "source": []
  },
  {
   "cell_type": "code",
   "execution_count": null,
   "metadata": {},
   "outputs": [],
   "source": []
  },
  {
   "cell_type": "markdown",
   "metadata": {},
   "source": []
  },
  {
   "cell_type": "code",
   "execution_count": 7,
   "metadata": {},
   "outputs": [],
   "source": [
    "def make_sensor_data_fact_df(csv_file: str) -> pl.DataFrame:\n",
    "    path = f'data/{csv_file}'\n",
    "    try:\n",
    "        raw_df = pl.scan_csv(path,\n",
    "            null_values = [' ', 'unavailable', 'unknown', 'b'],\n",
    "            # columns = ['sensor_id', 'location', 'lat', 'lon', 'timestamp', 'P1', 'P2'],\n",
    "            separator=';',\n",
    "            ignore_errors = True,\n",
    "            schema = {\n",
    "                            'sensor_id': pl.Int64,\n",
    "                            'sensor_type': pl.Utf8,\n",
    "                            'location': pl.Utf8,\n",
    "                            'lat':pl.Float64,\n",
    "                            'lon':pl.Float64,\n",
    "                            'timestamp':pl.Datetime,\n",
    "                            'P1':pl.Float64,\n",
    "                            'durP1': pl.Float64,\n",
    "                            'ratioP1': pl.Float64,\n",
    "                            'P2':pl.Float64,\n",
    "                            'durP2': pl.Float64,\n",
    "                            'ratioP2': pl.Float64,\n",
    "                        },\n",
    "            try_parse_dates = True#,\n",
    "            # n_rows=1000\n",
    "            )\n",
    "        \n",
    "        sensor_data_fact_df = (\n",
    "            raw_df\n",
    "            .filter([pl.col('lon').is_between(-3, -2.18),\n",
    "                     pl.col('lat').is_between(51.2, 51.6)])\n",
    "                     .select(['sensor_id', 'lat', 'lon', 'timestamp', 'P1', 'P2'])\n",
    "                    .sort(by = [pl.col('sensor_id'), pl.col('timestamp')])\n",
    "                    .group_by_dynamic('timestamp', every = \"1h\", by = 'sensor_id')\n",
    "                    .agg([\n",
    "                        pl.col('P1').mean().alias(\"pm10\"),\n",
    "                        pl.col('P2').mean().alias(\"pm2.5\"),\n",
    "                        pl.col('lat').first().alias(\"lat\"),\n",
    "                        pl.col('lon').first().alias(\"lon\")\n",
    "                    ])                    \n",
    "            ).collect()\n",
    "\n",
    "        thedate = (sensor_data_fact_df\n",
    "        .head(1)\n",
    "        .select(pl.col('timestamp'))\n",
    "        .to_series(0)\n",
    "        )[0]\n",
    "        clean_file_out_path = f'data/cleaned/{str(thedate.year)}-{str(thedate.month)}_SDS011_clean.csv'\n",
    "        sensor_data_fact_df.write_csv(clean_file_out_path)\n",
    "        os.remove(path)\n",
    "        \n",
    "        return sensor_data_fact_df\n",
    "    \n",
    "    except Exception as e:\n",
    "        print(f\"An error occurred: {e}\")\n",
    "\n",
    "        "
   ]
  },
  {
   "cell_type": "code",
   "execution_count": 7,
   "metadata": {},
   "outputs": [],
   "source": [
    "def compose(g, f):\n",
    "    def h(x):\n",
    "        return g(f(x))\n",
    "    return h"
   ]
  },
  {
   "cell_type": "code",
   "execution_count": 8,
   "metadata": {},
   "outputs": [],
   "source": [
    "comp = compose(make_sensor_data_fact_df, unz_del)"
   ]
  },
  {
   "cell_type": "code",
   "execution_count": 9,
   "metadata": {},
   "outputs": [
    {
     "name": "stdout",
     "output_type": "stream",
     "text": [
      "Downloading ZIP file from https://archive.sensor.community/csv_per_month/2023-01/2023-01_sds011.zip...\n",
      "An error occurred during the download: ('Connection broken: IncompleteRead(70942720 bytes read, 4126126148 more expected)', IncompleteRead(70942720 bytes read, 4126126148 more expected))\n",
      "An error occurred: No such file or directory (os error 2): data/None\n"
     ]
    }
   ],
   "source": [
    "raw_df = comp('2023-01')"
   ]
  },
  {
   "cell_type": "code",
   "execution_count": 11,
   "metadata": {},
   "outputs": [],
   "source": [
    "misslist = ['2020-02', '2021-02', '2021-03']"
   ]
  },
  {
   "cell_type": "code",
   "execution_count": 12,
   "metadata": {},
   "outputs": [
    {
     "name": "stdout",
     "output_type": "stream",
     "text": [
      "Downloading ZIP file from https://archive.sensor.community/csv_per_month/2020-02/2020-02_sds011.zip...\n",
      "Download complete.\n",
      "Extracting ZIP file...\n",
      "Extraction complete.\n",
      "Original ZIP file deleted.\n",
      "Downloading ZIP file from https://archive.sensor.community/csv_per_month/2021-02/2021-02_sds011.zip...\n",
      "Download complete.\n",
      "Extracting ZIP file...\n",
      "Extraction complete.\n",
      "Original ZIP file deleted.\n",
      "Downloading ZIP file from https://archive.sensor.community/csv_per_month/2021-03/2021-03_sds011.zip...\n",
      "Download complete.\n",
      "Extracting ZIP file...\n",
      "Extraction complete.\n",
      "Original ZIP file deleted.\n"
     ]
    }
   ],
   "source": [
    "df_miss = [comp(yr_mon) for yr_mon in misslist]"
   ]
  },
  {
   "cell_type": "code",
   "execution_count": 14,
   "metadata": {},
   "outputs": [
    {
     "data": {
      "text/plain": [
       "(1525789, 6)"
      ]
     },
     "execution_count": 14,
     "metadata": {},
     "output_type": "execute_result"
    }
   ],
   "source": [
    "files = os.listdir('data/cleaned')\n",
    "lazy_df_list = []\n",
    "for file in files:\n",
    "    lazy_df = pl.read_csv(f'data/cleaned/{file}',   try_parse_dates=True)\n",
    "    lazy_df_list.append(lazy_df)\n",
    "\n",
    "complete_df = (\n",
    "    pl.concat(lazy_df_list)\n",
    ")\n",
    "\n",
    "complete_df.shape"
   ]
  },
  {
   "cell_type": "code",
   "execution_count": 15,
   "metadata": {},
   "outputs": [
    {
     "name": "stdout",
     "output_type": "stream",
     "text": [
      "Rows: 1525789\n",
      "Columns: 6\n",
      "$ sensor_id          <i64> 7675, 7675, 7675, 7675, 7675, 7675, 7675, 7675, 7675, 7675\n",
      "$ timestamp <datetime[μs]> 2022-07-01 00:00:00, 2022-07-01 01:00:00, 2022-07-01 02:00:00, 2022-07-01 03:00:00, 2022-07-01 04:00:00, 2022-07-01 05:00:00, 2022-07-01 06:00:00, 2022-07-01 07:00:00, 2022-07-01 08:00:00, 2022-07-01 09:00:00\n",
      "$ pm10               <f64> 7.556000000000001, 7.929999999999999, 8.131250000000001, 7.630799999999999, 12.955416666666665, 8.764999999999999, 6.102916666666668, 7.845999999999999, 7.503750000000001, 5.574583333333333\n",
      "$ pm2.5              <f64> 4.199999999999999, 3.9791666666666665, 4.03875, 4.3224, 6.626666666666665, 3.822083333333333, 2.6337499999999996, 2.67, 2.285833333333333, 1.7249999999999999\n",
      "$ lat                <f64> 51.464, 51.464, 51.464, 51.464, 51.464, 51.464, 51.464, 51.464, 51.464, 51.464\n",
      "$ lon                <f64> -2.566, -2.566, -2.566, -2.566, -2.566, -2.566, -2.566, -2.566, -2.566, -2.566\n",
      "\n"
     ]
    }
   ],
   "source": [
    "complete_df.glimpse()"
   ]
  },
  {
   "cell_type": "code",
   "execution_count": null,
   "metadata": {},
   "outputs": [],
   "source": []
  },
  {
   "cell_type": "code",
   "execution_count": 16,
   "metadata": {},
   "outputs": [],
   "source": [
    "complete_df.write_csv('data/sensor_df_complete.csv')\n"
   ]
  },
  {
   "cell_type": "code",
   "execution_count": 23,
   "metadata": {},
   "outputs": [],
   "source": [
    "sensor_df = pl.read_csv('data/sensor_df_complete.csv', try_parse_dates=True)"
   ]
  },
  {
   "cell_type": "code",
   "execution_count": 35,
   "metadata": {},
   "outputs": [
    {
     "data": {
      "text/plain": [
       "[59165,\n",
       " 56923,\n",
       " 54309,\n",
       " 67665,\n",
       " 47083,\n",
       " 17459,\n",
       " 22979,\n",
       " 56405,\n",
       " 3040,\n",
       " 47271,\n",
       " 23646,\n",
       " 49233,\n",
       " 57227,\n",
       " 5193,\n",
       " 34954,\n",
       " 47265,\n",
       " 65090,\n",
       " 49227,\n",
       " 7685,\n",
       " 49480,\n",
       " 53949,\n",
       " 65084,\n",
       " 66966,\n",
       " 65379,\n",
       " 66987,\n",
       " 20842,\n",
       " 17314,\n",
       " 51770,\n",
       " 39950,\n",
       " 53890,\n",
       " 72367,\n",
       " 70369,\n",
       " 31188,\n",
       " 66963,\n",
       " 12711,\n",
       " 66972,\n",
       " 56379,\n",
       " 68589,\n",
       " 26922,\n",
       " 23644,\n",
       " 65049,\n",
       " 39254,\n",
       " 45804,\n",
       " 57043,\n",
       " 78947,\n",
       " 47093,\n",
       " 65073,\n",
       " 8582,\n",
       " 67568,\n",
       " 33862,\n",
       " 54813,\n",
       " 24147,\n",
       " 11068,\n",
       " 14787,\n",
       " 47263,\n",
       " 17502,\n",
       " 50038,\n",
       " 26044,\n",
       " 51720,\n",
       " 54757,\n",
       " 56469,\n",
       " 48987,\n",
       " 35068,\n",
       " 71552,\n",
       " 34288,\n",
       " 49231,\n",
       " 65088,\n",
       " 48859,\n",
       " 21989,\n",
       " 56341,\n",
       " 32984,\n",
       " 66970,\n",
       " 65047,\n",
       " 10491,\n",
       " 62915,\n",
       " 65407,\n",
       " 47085,\n",
       " 56255,\n",
       " 67655,\n",
       " 54019,\n",
       " 17318,\n",
       " 36581,\n",
       " 51768,\n",
       " 39570,\n",
       " 38525,\n",
       " 66979,\n",
       " 70153,\n",
       " 65086,\n",
       " 40571,\n",
       " 50765,\n",
       " 70326,\n",
       " 69775,\n",
       " 70424,\n",
       " 69513,\n",
       " 54466,\n",
       " 7675,\n",
       " 51072,\n",
       " 65080,\n",
       " 65077,\n",
       " 17506,\n",
       " 60492,\n",
       " 38362,\n",
       " 59364,\n",
       " 47836,\n",
       " 29880,\n",
       " 10179,\n",
       " 35382,\n",
       " 51748,\n",
       " 39836,\n",
       " 65405,\n",
       " 59605,\n",
       " 50036,\n",
       " 48881,\n",
       " 8741,\n",
       " 59617,\n",
       " 66974]"
      ]
     },
     "execution_count": 35,
     "metadata": {},
     "output_type": "execute_result"
    }
   ],
   "source": [
    "dim_sensor_df = (\n",
    "    sensor_df\n",
    "    .group_by('sensor_id')\n",
    "    .agg([pl.col('lat').first().alias('latitude'),\n",
    "          pl.col('lon').first().alias('longitude')])\n",
    "    .filter([pl.col('longitude').is_between(-3, -2.18),\n",
    "             pl.col('latitude').is_between(51.2, 51.6)])\n",
    ")\n",
    "lep_sensors = (dim_sensor_df\n",
    "               .select('sensor_id')\n",
    "               .to_series())\n",
    "lep_sensors_list = list(lep_sensors)\n",
    "lep_sensors_list"
   ]
  },
  {
   "cell_type": "code",
   "execution_count": 37,
   "metadata": {},
   "outputs": [],
   "source": [
    "fact_sensor_hr_df = (\n",
    "    sensor_df\n",
    "    .drop(['lat', 'lon'])\n",
    "    .sort(['sensor_id', 'timestamp'])\n",
    "    .filter(pl.col('sensor_id').is_in(lep_sensors_list))\n",
    ")"
   ]
  },
  {
   "cell_type": "code",
   "execution_count": 39,
   "metadata": {},
   "outputs": [
    {
     "name": "stdout",
     "output_type": "stream",
     "text": [
      "Rows: 1052092\n",
      "Columns: 4\n",
      "$ sensor_id          <i64> 3040, 3040, 3040, 3040, 3040, 3040, 3040, 3040, 3040, 3040\n",
      "$ timestamp <datetime[μs]> 2020-01-01 00:00:00, 2020-01-01 01:00:00, 2020-01-01 02:00:00, 2020-01-01 03:00:00, 2020-01-01 04:00:00, 2020-01-01 05:00:00, 2020-01-01 06:00:00, 2020-01-01 07:00:00, 2020-01-01 08:00:00, 2020-01-01 09:00:00\n",
      "$ pm10               <f64> 5.729583333333333, 5.000416666666666, 2.8571999999999993, 2.11625, 1.8737500000000002, 1.5132000000000003, 1.3462500000000004, 2.592, 0.8758333333333334, 1.3576000000000001\n",
      "$ pm2.5              <f64> 4.085, 3.2174999999999994, 1.9967999999999995, 1.1295833333333334, 1.3020833333333333, 1.1440000000000001, 1.1170833333333332, 1.962, 0.75, 0.9531999999999998\n",
      "\n"
     ]
    }
   ],
   "source": [
    "fact_sensor_hr_df.glimpse()"
   ]
  },
  {
   "cell_type": "code",
   "execution_count": 43,
   "metadata": {},
   "outputs": [],
   "source": [
    "fact_sensor_day_df = (fact_sensor_hr_df\n",
    "                      .group_by_dynamic('timestamp', every='1d', by = 'sensor_id', closed='left')\n",
    "                      .agg([pl.col('pm10').mean(),\n",
    "                            pl.col('pm2.5').mean()])\n",
    "                        .filter(pl.col('pm10').is_not_nan(),\n",
    "                                pl.col('pm2.5').is_not_nan())\n",
    "                      )"
   ]
  },
  {
   "cell_type": "code",
   "execution_count": 45,
   "metadata": {},
   "outputs": [
    {
     "name": "stdout",
     "output_type": "stream",
     "text": [
      "Rows: 44983\n",
      "Columns: 4\n",
      "$ sensor_id          <i64> 3040, 3040, 3040, 3040, 3040, 3040, 3040, 3040, 3040, 3040\n",
      "$ timestamp <datetime[μs]> 2020-01-01 00:00:00, 2020-01-02 00:00:00, 2020-01-03 00:00:00, 2020-01-04 00:00:00, 2020-01-05 00:00:00, 2020-01-06 00:00:00, 2020-01-07 00:00:00, 2020-01-08 00:00:00, 2020-01-19 00:00:00, 2020-01-20 00:00:00\n",
      "$ pm10               <f64> 1.777557216183575, 1.2170368620037806, 1.0376101751207731, 0.8214650664251207, 0.8532078947368423, 1.5582531400966184, 0.5171283089042601, 1.3677803402646505, 1.1649741715399609, 0.7742836940836941\n",
      "$ pm2.5              <f64> 1.2739747886473427, 0.7568890044108381, 0.565838979468599, 0.5262321859903384, 0.5102237639553429, 0.7873081521739129, 0.3906180816315327, 0.7129304032766228, 1.0033465886939572, 0.7441821067821067\n",
      "\n"
     ]
    }
   ],
   "source": [
    "fact_sensor_day_df.glimpse()"
   ]
  },
  {
   "cell_type": "code",
   "execution_count": 46,
   "metadata": {},
   "outputs": [],
   "source": [
    "dim_sensor_df.write_csv('data/dim_sensor_df.csv')\n",
    "fact_sensor_hr_df.write_csv('data/fact_sensor_hr_df.csv')\n",
    "fact_sensor_day_df.write_csv('data/fact_sensor_day_df.csv')\n"
   ]
  },
  {
   "cell_type": "code",
   "execution_count": 46,
   "metadata": {},
   "outputs": [
    {
     "name": "stdout",
     "output_type": "stream",
     "text": [
      "Rows: 149\n",
      "Columns: 3\n",
      "$ sensor_id <i64> 59165, 54309, 56923, 3040, 45386, 68597, 17459, 56405, 67665, 22979\n",
      "$ latitude  <f64> 51.5, 51.5, 51.5, 51.40000000000466, 51.89999999999797, 51.0, 51.5, 51.40000000001312, 51.5, 51.40000000000085\n",
      "$ longitude <f64> -2.599999999999943, -2.5, -2.8000000000009573, -2.5999999999999828, -2.8000000000001135, -2.7999999999999807, -2.5999999999999526, -2.5999999999993295, -2.5999999999993535, -2.599999999999956\n",
      "\n"
     ]
    }
   ],
   "source": [
    "dim_sensor_df.glimpse()"
   ]
  },
  {
   "cell_type": "code",
   "execution_count": 16,
   "metadata": {},
   "outputs": [],
   "source": [
    "sensor_data_fact_df = make_sensor_data_fact_df(raw_df)"
   ]
  },
  {
   "cell_type": "code",
   "execution_count": 17,
   "metadata": {},
   "outputs": [
    {
     "data": {
      "text/html": [
       "<div><style>\n",
       ".dataframe > thead > tr,\n",
       ".dataframe > tbody > tr {\n",
       "  text-align: right;\n",
       "  white-space: pre-wrap;\n",
       "}\n",
       "</style>\n",
       "<small>shape: (34_897, 4)</small><table border=\"1\" class=\"dataframe\"><thead><tr><th>sensor_id</th><th>timestamp</th><th>pm10</th><th>pm2.5</th></tr><tr><td>i64</td><td>datetime[μs]</td><td>f64</td><td>f64</td></tr></thead><tbody><tr><td>7675</td><td>2023-01-01 00:00:00</td><td>8.8</td><td>3.0</td></tr><tr><td>7675</td><td>2023-01-01 01:00:00</td><td>14.5</td><td>3.7</td></tr><tr><td>7675</td><td>2023-01-01 02:00:00</td><td>16.6</td><td>4.2</td></tr><tr><td>7675</td><td>2023-01-01 03:00:00</td><td>18.7</td><td>4.1</td></tr><tr><td>7675</td><td>2023-01-01 04:00:00</td><td>15.1</td><td>3.5</td></tr><tr><td>7675</td><td>2023-01-01 05:00:00</td><td>13.3</td><td>3.1</td></tr><tr><td>7675</td><td>2023-01-01 06:00:00</td><td>17.8</td><td>3.7</td></tr><tr><td>7675</td><td>2023-01-01 07:00:00</td><td>20.1</td><td>4.3</td></tr><tr><td>7675</td><td>2023-01-01 08:00:00</td><td>20.6</td><td>4.5</td></tr><tr><td>7675</td><td>2023-01-01 09:00:00</td><td>26.5</td><td>5.5</td></tr><tr><td>7675</td><td>2023-01-01 10:00:00</td><td>24.4</td><td>5.3</td></tr><tr><td>7675</td><td>2023-01-01 11:00:00</td><td>24.6</td><td>5.6</td></tr><tr><td>&hellip;</td><td>&hellip;</td><td>&hellip;</td><td>&hellip;</td></tr><tr><td>77709</td><td>2023-01-23 08:00:00</td><td>11.4</td><td>5.6</td></tr><tr><td>77709</td><td>2023-01-23 09:00:00</td><td>18.7</td><td>6.8</td></tr><tr><td>77709</td><td>2023-01-23 10:00:00</td><td>16.8</td><td>7.0</td></tr><tr><td>77709</td><td>2023-01-23 11:00:00</td><td>16.6</td><td>8.1</td></tr><tr><td>77709</td><td>2023-01-23 12:00:00</td><td>15.2</td><td>5.6</td></tr><tr><td>77709</td><td>2023-01-23 13:00:00</td><td>8.9</td><td>3.3</td></tr><tr><td>77709</td><td>2023-01-23 14:00:00</td><td>5.5</td><td>3.0</td></tr><tr><td>77709</td><td>2023-01-23 15:00:00</td><td>6.5</td><td>2.8</td></tr><tr><td>77709</td><td>2023-01-23 16:00:00</td><td>6.1</td><td>3.1</td></tr><tr><td>77709</td><td>2023-01-23 17:00:00</td><td>13.4</td><td>6.7</td></tr><tr><td>77709</td><td>2023-01-23 18:00:00</td><td>15.5</td><td>8.4</td></tr><tr><td>77709</td><td>2023-01-23 19:00:00</td><td>20.5</td><td>10.4</td></tr></tbody></table></div>"
      ],
      "text/plain": [
       "shape: (34_897, 4)\n",
       "┌───────────┬─────────────────────┬──────┬───────┐\n",
       "│ sensor_id ┆ timestamp           ┆ pm10 ┆ pm2.5 │\n",
       "│ ---       ┆ ---                 ┆ ---  ┆ ---   │\n",
       "│ i64       ┆ datetime[μs]        ┆ f64  ┆ f64   │\n",
       "╞═══════════╪═════════════════════╪══════╪═══════╡\n",
       "│ 7675      ┆ 2023-01-01 00:00:00 ┆ 8.8  ┆ 3.0   │\n",
       "│ 7675      ┆ 2023-01-01 01:00:00 ┆ 14.5 ┆ 3.7   │\n",
       "│ 7675      ┆ 2023-01-01 02:00:00 ┆ 16.6 ┆ 4.2   │\n",
       "│ 7675      ┆ 2023-01-01 03:00:00 ┆ 18.7 ┆ 4.1   │\n",
       "│ 7675      ┆ 2023-01-01 04:00:00 ┆ 15.1 ┆ 3.5   │\n",
       "│ …         ┆ …                   ┆ …    ┆ …     │\n",
       "│ 77709     ┆ 2023-01-23 15:00:00 ┆ 6.5  ┆ 2.8   │\n",
       "│ 77709     ┆ 2023-01-23 16:00:00 ┆ 6.1  ┆ 3.1   │\n",
       "│ 77709     ┆ 2023-01-23 17:00:00 ┆ 13.4 ┆ 6.7   │\n",
       "│ 77709     ┆ 2023-01-23 18:00:00 ┆ 15.5 ┆ 8.4   │\n",
       "│ 77709     ┆ 2023-01-23 19:00:00 ┆ 20.5 ┆ 10.4  │\n",
       "└───────────┴─────────────────────┴──────┴───────┘"
      ]
     },
     "execution_count": 17,
     "metadata": {},
     "output_type": "execute_result"
    }
   ],
   "source": [
    "sensor_data_fact_df"
   ]
  },
  {
   "cell_type": "code",
   "execution_count": 5,
   "metadata": {},
   "outputs": [],
   "source": [
    "def make_sensor_data_dim_df(raw_df: pl.DataFrame) -> pl.DataFrame:\n",
    "    sensor_data_dim_df = (raw_df\n",
    "                    .filter([pl.col('lon').is_between(-3, -2),\n",
    "                        pl.col('lat').is_between(50, 52)])\n",
    "                        .select(['sensor_id', 'lat', 'lon'])\n",
    "                        .group_by('sensor_id')\n",
    "                        .agg([pl.col('lat').mean(),\n",
    "                            pl.col('lon').mean()])                \n",
    "                    ).collect()\n",
    "    \n",
    "\n",
    "    return sensor_data_dim_df"
   ]
  },
  {
   "cell_type": "code",
   "execution_count": 8,
   "metadata": {},
   "outputs": [
    {
     "name": "stdout",
     "output_type": "stream",
     "text": [
      "Rows: 36\n",
      "Columns: 3\n",
      "$ sensor_id <i64> 33862, 67665, 66970, 34457, 7685, 70369, 78947, 17741, 48881, 69775\n",
      "$ lat       <f64> 51.436000000001265, 51.47199999999817, 51.46600000000033, 51.8505059400016, 51.474000000001205, 51.35599999999979, 51.472510399996764, 51.82200000000011, 51.4060000000018, 51.44999999999808\n",
      "$ lon       <f64> -2.742000000000117, -2.573999999999921, -2.587999999999987, -2.2450679499998865, -2.5760000000000205, -2.905999999999955, -2.5991219799998637, -2.26800000000002, -2.402000000000038, -2.51599999999994\n",
      "\n"
     ]
    }
   ],
   "source": [
    "sensor_data_dim.glimpse()"
   ]
  },
  {
   "cell_type": "code",
   "execution_count": 6,
   "metadata": {},
   "outputs": [],
   "source": [
    "con = duckdb.connect('data/new.db')"
   ]
  },
  {
   "cell_type": "code",
   "execution_count": 14,
   "metadata": {},
   "outputs": [
    {
     "data": {
      "text/plain": [
       "<duckdb.duckdb.DuckDBPyConnection at 0x7fce7c50ae30>"
      ]
     },
     "execution_count": 14,
     "metadata": {},
     "output_type": "execute_result"
    }
   ],
   "source": [
    "con.execute(\"\"\"\n",
    "DROP TABLE IF EXISTS raw_tbl;\n",
    "\n",
    "\"\"\")"
   ]
  },
  {
   "cell_type": "code",
   "execution_count": 15,
   "metadata": {},
   "outputs": [
    {
     "ename": "CatalogException",
     "evalue": "Catalog Error: Table with name raw_tbl does not exist!\nDid you mean \"temp.information_schema.tables\"?",
     "output_type": "error",
     "traceback": [
      "\u001b[0;31m---------------------------------------------------------------------------\u001b[0m",
      "\u001b[0;31mCatalogException\u001b[0m                          Traceback (most recent call last)",
      "Cell \u001b[0;32mIn[15], line 1\u001b[0m\n\u001b[0;32m----> 1\u001b[0m \u001b[43mcon\u001b[49m\u001b[38;5;241;43m.\u001b[39;49m\u001b[43msql\u001b[49m\u001b[43m(\u001b[49m\u001b[38;5;124;43m\"\"\"\u001b[39;49m\n\u001b[1;32m      2\u001b[0m \u001b[38;5;124;43mCOPY raw_tbl FROM \u001b[39;49m\u001b[38;5;124;43m'\u001b[39;49m\u001b[38;5;124;43mdata/2023-12_sds011.csv\u001b[39;49m\u001b[38;5;124;43m'\u001b[39;49m\n\u001b[1;32m      3\u001b[0m \n\u001b[1;32m      4\u001b[0m \u001b[38;5;124;43m\"\"\"\u001b[39;49m\u001b[43m)\u001b[49m\n",
      "\u001b[0;31mCatalogException\u001b[0m: Catalog Error: Table with name raw_tbl does not exist!\nDid you mean \"temp.information_schema.tables\"?"
     ]
    }
   ],
   "source": [
    "con.sql(\"\"\"\n",
    "COPY raw_tbl FROM 'data/2023-12_sds011.csv'\n",
    "\n",
    "\"\"\")"
   ]
  },
  {
   "cell_type": "code",
   "execution_count": 3,
   "metadata": {},
   "outputs": [
    {
     "ename": "",
     "evalue": "",
     "output_type": "error",
     "traceback": [
      "\u001b[1;31mThe Kernel crashed while executing code in the current cell or a previous cell. \n",
      "\u001b[1;31mPlease review the code in the cell(s) to identify a possible cause of the failure. \n",
      "\u001b[1;31mClick <a href='https://aka.ms/vscodeJupyterKernelCrash'>here</a> for more info. \n",
      "\u001b[1;31mView Jupyter <a href='command:jupyter.viewOutput'>log</a> for further details."
     ]
    }
   ],
   "source": [
    "t = duckdb.read_csv('data/2023-12_sds011.csv', \n",
    "                header=True,\n",
    "                sep=';',\n",
    "                dtype={\n",
    "                      'sensor_id': int,\n",
    "                      'sensor_type': str,\n",
    "                      'location': str,\n",
    "                      'lat': float,\n",
    "                      'lon': float,\n",
    "                      'timestamp': str,\n",
    "                      'P1': str,\n",
    "                      'durP1': str,\n",
    "                      'ratioP1': str,\n",
    "                      'P2': str,\n",
    "                      'durP2': str,\n",
    "                      'ratioP2': str,\n",
    "                  }, parallel=True).pl()"
   ]
  },
  {
   "cell_type": "code",
   "execution_count": 21,
   "metadata": {},
   "outputs": [
    {
     "data": {
      "text/plain": [
       "duckdb.duckdb.DuckDBPyRelation"
      ]
     },
     "execution_count": 21,
     "metadata": {},
     "output_type": "execute_result"
    }
   ],
   "source": [
    "type(t)"
   ]
  },
  {
   "cell_type": "code",
   "execution_count": 22,
   "metadata": {},
   "outputs": [
    {
     "ename": "TypeError",
     "evalue": "DataFrame constructor called with unsupported type 'DuckDBPyRelation' for the `data` parameter",
     "output_type": "error",
     "traceback": [
      "\u001b[0;31m---------------------------------------------------------------------------\u001b[0m",
      "\u001b[0;31mTypeError\u001b[0m                                 Traceback (most recent call last)",
      "\u001b[0;32m/tmp/ipykernel_18044/1175028592.py\u001b[0m in \u001b[0;36m?\u001b[0;34m()\u001b[0m\n\u001b[0;32m----> 1\u001b[0;31m \u001b[0mtp\u001b[0m \u001b[0;34m=\u001b[0m \u001b[0mpl\u001b[0m\u001b[0;34m.\u001b[0m\u001b[0mDataFrame\u001b[0m\u001b[0;34m(\u001b[0m\u001b[0mt\u001b[0m\u001b[0;34m)\u001b[0m\u001b[0;34m\u001b[0m\u001b[0;34m\u001b[0m\u001b[0m\n\u001b[0m",
      "\u001b[0;32m~/python_projects/polars_playground/.venv/lib/python3.10/site-packages/polars/dataframe/frame.py\u001b[0m in \u001b[0;36m?\u001b[0;34m(self, data, schema, schema_overrides, orient, infer_schema_length, nan_to_null)\u001b[0m\n\u001b[1;32m    423\u001b[0m             msg = (\n\u001b[1;32m    424\u001b[0m                 \u001b[0;34mf\"DataFrame constructor called with unsupported type {type(data).__name__!r}\"\u001b[0m\u001b[0;34m\u001b[0m\u001b[0;34m\u001b[0m\u001b[0m\n\u001b[1;32m    425\u001b[0m                 \u001b[0;34m\" for the `data` parameter\"\u001b[0m\u001b[0;34m\u001b[0m\u001b[0;34m\u001b[0m\u001b[0m\n\u001b[1;32m    426\u001b[0m             )\n\u001b[0;32m--> 427\u001b[0;31m             \u001b[0;32mraise\u001b[0m \u001b[0mTypeError\u001b[0m\u001b[0;34m(\u001b[0m\u001b[0mmsg\u001b[0m\u001b[0;34m)\u001b[0m\u001b[0;34m\u001b[0m\u001b[0;34m\u001b[0m\u001b[0m\n\u001b[0m",
      "\u001b[0;31mTypeError\u001b[0m: DataFrame constructor called with unsupported type 'DuckDBPyRelation' for the `data` parameter"
     ]
    }
   ],
   "source": [
    "tp = pl.DataFrame(t)"
   ]
  },
  {
   "cell_type": "code",
   "execution_count": 10,
   "metadata": {},
   "outputs": [
    {
     "ename": "ConversionException",
     "evalue": "Conversion Error: CSV Error on Line: 1\nError when converting column \"sensor_id\".\nCould not convert string \"sensor_id;sensor_type;location;lat;lon;timestamp;P1;durP1;ratioP1;P2;durP2;ratioP2\" to 'INTEGER'\n\n  file=data/2023-12_sds011.csv\n  delimiter = , (Auto-Detected)\n  quote = \" (Auto-Detected)\n  escape = \" (Auto-Detected)\n  new_line = \\n (Auto-Detected)\n  header = false (Auto-Detected)\n  skip_rows = 0 (Auto-Detected)\n  date_format =  (Auto-Detected)\n  timestamp_format =  (Auto-Detected)\n  null_padding=0\n  sample_size=20480\n  ignore_errors=0\n  all_varchar=0\n",
     "output_type": "error",
     "traceback": [
      "\u001b[0;31m---------------------------------------------------------------------------\u001b[0m",
      "\u001b[0;31mConversionException\u001b[0m                       Traceback (most recent call last)",
      "Cell \u001b[0;32mIn[10], line 1\u001b[0m\n\u001b[0;32m----> 1\u001b[0m \u001b[43mcon\u001b[49m\u001b[38;5;241;43m.\u001b[39;49m\u001b[43mexecute\u001b[49m\u001b[43m(\u001b[49m\n\u001b[1;32m      2\u001b[0m \u001b[38;5;124;43;03m\"\"\"\u001b[39;49;00m\n\u001b[1;32m      3\u001b[0m \u001b[38;5;124;43;03mCREATE TABLE raw_tbl(sensor_id INTEGER,\u001b[39;49;00m\n\u001b[1;32m      4\u001b[0m \u001b[38;5;124;43;03mlocation INTEGER,\u001b[39;49;00m\n\u001b[1;32m      5\u001b[0m \u001b[38;5;124;43;03mtimestamp VARCHAR,\u001b[39;49;00m\n\u001b[1;32m      6\u001b[0m \u001b[38;5;124;43;03mlat FLOAT,\u001b[39;49;00m\n\u001b[1;32m      7\u001b[0m \u001b[38;5;124;43;03mlon FLOAT,\u001b[39;49;00m\n\u001b[1;32m      8\u001b[0m \u001b[38;5;124;43;03mP1 FLOAT,\u001b[39;49;00m\n\u001b[1;32m      9\u001b[0m \u001b[38;5;124;43;03mdurP1 FLOAT,\u001b[39;49;00m\n\u001b[1;32m     10\u001b[0m \u001b[38;5;124;43;03mratioP1 FLOAT,\u001b[39;49;00m\n\u001b[1;32m     11\u001b[0m \u001b[38;5;124;43;03mP2 FLOAT,\u001b[39;49;00m\n\u001b[1;32m     12\u001b[0m \u001b[38;5;124;43;03mdurP2 FLOAT,\u001b[39;49;00m\n\u001b[1;32m     13\u001b[0m \u001b[38;5;124;43;03mratioP2 FLOAT\u001b[39;49;00m\n\u001b[1;32m     14\u001b[0m \u001b[38;5;124;43;03m);\u001b[39;49;00m\n\u001b[1;32m     15\u001b[0m \u001b[38;5;124;43;03mCOPY raw_tbl FROM 'data/2023-12_sds011.csv' (AUTO_DETECT false);\u001b[39;49;00m\n\u001b[1;32m     16\u001b[0m \n\u001b[1;32m     17\u001b[0m \u001b[38;5;124;43;03m\"\"\"\u001b[39;49;00m\n\u001b[1;32m     18\u001b[0m \n\u001b[1;32m     19\u001b[0m \u001b[43m)\u001b[49m\n",
      "\u001b[0;31mConversionException\u001b[0m: Conversion Error: CSV Error on Line: 1\nError when converting column \"sensor_id\".\nCould not convert string \"sensor_id;sensor_type;location;lat;lon;timestamp;P1;durP1;ratioP1;P2;durP2;ratioP2\" to 'INTEGER'\n\n  file=data/2023-12_sds011.csv\n  delimiter = , (Auto-Detected)\n  quote = \" (Auto-Detected)\n  escape = \" (Auto-Detected)\n  new_line = \\n (Auto-Detected)\n  header = false (Auto-Detected)\n  skip_rows = 0 (Auto-Detected)\n  date_format =  (Auto-Detected)\n  timestamp_format =  (Auto-Detected)\n  null_padding=0\n  sample_size=20480\n  ignore_errors=0\n  all_varchar=0\n"
     ]
    }
   ],
   "source": [
    "con.execute(\n",
    "\"\"\"\n",
    "CREATE TABLE raw_tbl(sensor_id INTEGER,\n",
    "location INTEGER,\n",
    "timestamp VARCHAR,\n",
    "lat FLOAT,\n",
    "lon FLOAT,\n",
    "P1 FLOAT,\n",
    "durP1 FLOAT,\n",
    "ratioP1 FLOAT,\n",
    "P2 FLOAT,\n",
    "durP2 FLOAT,\n",
    "ratioP2 FLOAT\n",
    ");\n",
    "COPY raw_tbl FROM 'data/2023-12_sds011.csv' (AUTO_DETECT false);\n",
    "\n",
    "\"\"\"\n",
    "\n",
    ")"
   ]
  },
  {
   "cell_type": "code",
   "execution_count": 5,
   "metadata": {},
   "outputs": [],
   "source": [
    "con.close()"
   ]
  },
  {
   "cell_type": "code",
   "execution_count": 10,
   "metadata": {},
   "outputs": [
    {
     "ename": "",
     "evalue": "",
     "output_type": "error",
     "traceback": [
      "\u001b[1;31mThe Kernel crashed while executing code in the the current cell or a previous cell. Please review the code in the cell(s) to identify a possible cause of the failure. Click <a href='https://aka.ms/vscodeJupyterKernelCrash'>here</a> for more info. View Jupyter <a href='command:jupyter.viewOutput'>log</a> for further details."
     ]
    }
   ],
   "source": [
    "con.execute(\n",
    "\"\"\"\n",
    "CREATE TABLE all_tbl(sensor_id INTEGER, location INTEGER, timestamp VARCHAR, lat FLOAT, lon FLOAT, P1 FLOAT, P2 FLOAT);\n",
    "COPY raw_tbl FROM 'data/sds011_pldf.csv' (AUTO_DETECT true);\n",
    "\n",
    "\"\"\"\n",
    "\n",
    ")\n",
    "\n",
    ")"
   ]
  },
  {
   "cell_type": "markdown",
   "metadata": {},
   "source": [
    "Using the read_csv constructor within the sql function is very slow, possibly due to type conversion during read"
   ]
  },
  {
   "cell_type": "code",
   "execution_count": 4,
   "metadata": {},
   "outputs": [],
   "source": [
    "df = con.sql(\n",
    "\"\"\"\n",
    "\n",
    "SELECT sensor_id, location, timestamp, lat, lon, P1, P2 \n",
    "FROM 'data/sds011_pldf.csv'\n",
    "WHERE (lat > 51 AND lat < 52) AND (lon < -2 AND lon > -3)\n",
    "\n",
    "\n",
    "\"\"\")"
   ]
  },
  {
   "cell_type": "markdown",
   "metadata": {},
   "source": [
    "Convert to polars DF"
   ]
  },
  {
   "cell_type": "code",
   "execution_count": 5,
   "metadata": {},
   "outputs": [],
   "source": [
    "pldf = df.pl()"
   ]
  },
  {
   "cell_type": "code",
   "execution_count": 6,
   "metadata": {},
   "outputs": [
    {
     "name": "stdout",
     "output_type": "stream",
     "text": [
      "Rows: 574057\n",
      "Columns: 7\n",
      "$ sensor_id          <i64> 24147, 10491, 48881, 7685, 78664, 77022, 66667, 78947, 56255, 34457\n",
      "$ location           <i64> 12309, 5293, 57063, 3885, 67981, 65952, 57205, 72966, 57229, 20702\n",
      "$ timestamp <datetime[μs]> 2023-12-01 00:00:05, 2023-12-01 00:00:07, 2023-12-01 00:00:10, 2023-12-01 00:00:14, 2023-12-01 00:00:14, 2023-12-01 00:00:17, 2023-12-01 00:00:27, 2023-12-01 00:00:33, 2023-12-01 00:00:41, 2023-12-01 00:00:56\n",
      "$ lat                <f64> 51.45, 51.464, 51.406, 51.474, 51.022, 51.44, 51.438, 51.4725104, 51.432, 51.85050594\n",
      "$ lon                <f64> -2.624, -2.566, -2.402, -2.576, -2.87, -2.054, -2.006, -2.59912198, -2.598, -2.24506795\n",
      "$ P1                 <f64> 25.03, 18.03, 14.25, 0.8, 3.78, 24.17, 17.5, 2.4, 35.58, 12.95\n",
      "$ P2                 <f64> 9.87, 11.57, 7.82, 0.8, 3.03, 9.63, 10.73, 1.6, 20.0, 10.57\n",
      "\n"
     ]
    }
   ],
   "source": [
    "pldf.glimpse()"
   ]
  },
  {
   "cell_type": "code",
   "execution_count": null,
   "metadata": {},
   "outputs": [],
   "source": []
  },
  {
   "cell_type": "markdown",
   "metadata": {},
   "source": [
    "Measurands are imported as strings, probably due to anomalous data in these fields. Convert to hourly mean data using group by dynamic after sorting first."
   ]
  },
  {
   "cell_type": "code",
   "execution_count": 14,
   "metadata": {},
   "outputs": [
    {
     "data": {
      "text/html": [
       "<div><style>\n",
       ".dataframe > thead > tr,\n",
       ".dataframe > tbody > tr {\n",
       "  text-align: right;\n",
       "  white-space: pre-wrap;\n",
       "}\n",
       "</style>\n",
       "<small>shape: (23_887, 6)</small><table border=\"1\" class=\"dataframe\"><thead><tr><th>sensor_id</th><th>lat</th><th>lon</th><th>date</th><th>PM10_mean</th><th>PM2.5_mean</th></tr><tr><td>i64</td><td>f64</td><td>f64</td><td>datetime[μs]</td><td>f64</td><td>f64</td></tr></thead><tbody><tr><td>7685</td><td>51.474</td><td>-2.576</td><td>2023-12-01 00:00:00</td><td>3.8996</td><td>1.6172</td></tr><tr><td>7685</td><td>51.474</td><td>-2.576</td><td>2023-12-01 01:00:00</td><td>0.605833</td><td>0.554583</td></tr><tr><td>7685</td><td>51.474</td><td>-2.576</td><td>2023-12-01 02:00:00</td><td>0.53</td><td>0.488333</td></tr><tr><td>7685</td><td>51.474</td><td>-2.576</td><td>2023-12-01 03:00:00</td><td>0.3364</td><td>0.3364</td></tr><tr><td>7685</td><td>51.474</td><td>-2.576</td><td>2023-12-01 04:00:00</td><td>0.348333</td><td>0.348333</td></tr><tr><td>7685</td><td>51.474</td><td>-2.576</td><td>2023-12-01 05:00:00</td><td>0.516667</td><td>0.359583</td></tr><tr><td>7685</td><td>51.474</td><td>-2.576</td><td>2023-12-01 06:00:00</td><td>0.404</td><td>0.396</td></tr><tr><td>7685</td><td>51.474</td><td>-2.576</td><td>2023-12-01 07:00:00</td><td>1.856667</td><td>0.9075</td></tr><tr><td>7685</td><td>51.474</td><td>-2.576</td><td>2023-12-01 08:00:00</td><td>1.062083</td><td>0.846667</td></tr><tr><td>7685</td><td>51.474</td><td>-2.576</td><td>2023-12-01 09:00:00</td><td>1.4428</td><td>0.728</td></tr><tr><td>7685</td><td>51.474</td><td>-2.576</td><td>2023-12-01 10:00:00</td><td>1.021667</td><td>0.599583</td></tr><tr><td>7685</td><td>51.474</td><td>-2.576</td><td>2023-12-01 11:00:00</td><td>0.952083</td><td>0.748333</td></tr><tr><td>&hellip;</td><td>&hellip;</td><td>&hellip;</td><td>&hellip;</td><td>&hellip;</td><td>&hellip;</td></tr><tr><td>80332</td><td>51.864</td><td>-2.246</td><td>2023-12-31 12:00:00</td><td>11.272917</td><td>2.677917</td></tr><tr><td>80332</td><td>51.864</td><td>-2.246</td><td>2023-12-31 13:00:00</td><td>15.2472</td><td>3.0084</td></tr><tr><td>80332</td><td>51.864</td><td>-2.246</td><td>2023-12-31 14:00:00</td><td>10.445833</td><td>2.260833</td></tr><tr><td>80332</td><td>51.864</td><td>-2.246</td><td>2023-12-31 15:00:00</td><td>9.5812</td><td>2.3964</td></tr><tr><td>80332</td><td>51.864</td><td>-2.246</td><td>2023-12-31 16:00:00</td><td>8.254167</td><td>2.615417</td></tr><tr><td>80332</td><td>51.864</td><td>-2.246</td><td>2023-12-31 17:00:00</td><td>8.7312</td><td>2.4164</td></tr><tr><td>80332</td><td>51.864</td><td>-2.246</td><td>2023-12-31 18:00:00</td><td>14.2144</td><td>3.8872</td></tr><tr><td>80332</td><td>51.864</td><td>-2.246</td><td>2023-12-31 19:00:00</td><td>13.702917</td><td>3.76</td></tr><tr><td>80332</td><td>51.864</td><td>-2.246</td><td>2023-12-31 20:00:00</td><td>12.2276</td><td>3.5332</td></tr><tr><td>80332</td><td>51.864</td><td>-2.246</td><td>2023-12-31 21:00:00</td><td>11.8124</td><td>3.514</td></tr><tr><td>80332</td><td>51.864</td><td>-2.246</td><td>2023-12-31 22:00:00</td><td>10.258333</td><td>3.487917</td></tr><tr><td>80332</td><td>51.864</td><td>-2.246</td><td>2023-12-31 23:00:00</td><td>11.4168</td><td>4.3588</td></tr></tbody></table></div>"
      ],
      "text/plain": [
       "shape: (23_887, 6)\n",
       "┌───────────┬────────┬────────┬─────────────────────┬───────────┬────────────┐\n",
       "│ sensor_id ┆ lat    ┆ lon    ┆ date                ┆ PM10_mean ┆ PM2.5_mean │\n",
       "│ ---       ┆ ---    ┆ ---    ┆ ---                 ┆ ---       ┆ ---        │\n",
       "│ i64       ┆ f64    ┆ f64    ┆ datetime[μs]        ┆ f64       ┆ f64        │\n",
       "╞═══════════╪════════╪════════╪═════════════════════╪═══════════╪════════════╡\n",
       "│ 7685      ┆ 51.474 ┆ -2.576 ┆ 2023-12-01 00:00:00 ┆ 3.8996    ┆ 1.6172     │\n",
       "│ 7685      ┆ 51.474 ┆ -2.576 ┆ 2023-12-01 01:00:00 ┆ 0.605833  ┆ 0.554583   │\n",
       "│ 7685      ┆ 51.474 ┆ -2.576 ┆ 2023-12-01 02:00:00 ┆ 0.53      ┆ 0.488333   │\n",
       "│ 7685      ┆ 51.474 ┆ -2.576 ┆ 2023-12-01 03:00:00 ┆ 0.3364    ┆ 0.3364     │\n",
       "│ …         ┆ …      ┆ …      ┆ …                   ┆ …         ┆ …          │\n",
       "│ 80332     ┆ 51.864 ┆ -2.246 ┆ 2023-12-31 20:00:00 ┆ 12.2276   ┆ 3.5332     │\n",
       "│ 80332     ┆ 51.864 ┆ -2.246 ┆ 2023-12-31 21:00:00 ┆ 11.8124   ┆ 3.514      │\n",
       "│ 80332     ┆ 51.864 ┆ -2.246 ┆ 2023-12-31 22:00:00 ┆ 10.258333 ┆ 3.487917   │\n",
       "│ 80332     ┆ 51.864 ┆ -2.246 ┆ 2023-12-31 23:00:00 ┆ 11.4168   ┆ 4.3588     │\n",
       "└───────────┴────────┴────────┴─────────────────────┴───────────┴────────────┘"
      ]
     },
     "execution_count": 14,
     "metadata": {},
     "output_type": "execute_result"
    }
   ],
   "source": [
    "(\n",
    "    pldf\n",
    "    .with_columns(pl.col(pl.Utf8).cast(pl.Float64))\n",
    "    .sort('sensor_id', 'timestamp')\n",
    "    .group_by_dynamic(pl.col('timestamp').alias('date'), every= '1h', by= ['sensor_id', 'lat', 'lon'])\n",
    "    .agg(pl.col('P1').mean().alias('PM10_mean'),\n",
    "         pl.col('P2').mean().alias('PM2.5_mean'))\n",
    ")"
   ]
  },
  {
   "cell_type": "code",
   "execution_count": 11,
   "metadata": {},
   "outputs": [
    {
     "data": {
      "text/plain": [
       "polars.dataframe.frame.DataFrame"
      ]
     },
     "execution_count": 11,
     "metadata": {},
     "output_type": "execute_result"
    }
   ],
   "source": [
    "pldf.write_csv('data/sds011_pldf.csv')\n",
    "type(pldf)"
   ]
  },
  {
   "cell_type": "code",
   "execution_count": 13,
   "metadata": {},
   "outputs": [],
   "source": [
    "sds_bristol = pl.read_csv('data/sds011_pldf.csv')"
   ]
  },
  {
   "cell_type": "code",
   "execution_count": 19,
   "metadata": {},
   "outputs": [
    {
     "data": {
      "text/plain": [
       "polars.dataframe.frame.DataFrame"
      ]
     },
     "execution_count": 19,
     "metadata": {},
     "output_type": "execute_result"
    }
   ],
   "source": [
    "type(sds_bristol)"
   ]
  },
  {
   "cell_type": "code",
   "execution_count": 21,
   "metadata": {},
   "outputs": [
    {
     "data": {
      "text/html": [
       "<div><style>\n",
       ".dataframe > thead > tr,\n",
       ".dataframe > tbody > tr {\n",
       "  text-align: right;\n",
       "  white-space: pre-wrap;\n",
       "}\n",
       "</style>\n",
       "<small>shape: (574_057, 7)</small><table border=\"1\" class=\"dataframe\"><thead><tr><th>sensor_id</th><th>location</th><th>timestamp</th><th>lat</th><th>lon</th><th>P1</th><th>P2</th></tr><tr><td>i64</td><td>i64</td><td>datetime[μs]</td><td>f64</td><td>f64</td><td>f64</td><td>f64</td></tr></thead><tbody><tr><td>24147</td><td>12309</td><td>2023-12-01 00:00:05</td><td>51.45</td><td>-2.624</td><td>25.03</td><td>9.87</td></tr><tr><td>10491</td><td>5293</td><td>2023-12-01 00:00:07</td><td>51.464</td><td>-2.566</td><td>18.03</td><td>11.57</td></tr><tr><td>48881</td><td>57063</td><td>2023-12-01 00:00:10</td><td>51.406</td><td>-2.402</td><td>14.25</td><td>7.82</td></tr><tr><td>7685</td><td>3885</td><td>2023-12-01 00:00:14</td><td>51.474</td><td>-2.576</td><td>0.8</td><td>0.8</td></tr><tr><td>78664</td><td>67981</td><td>2023-12-01 00:00:14</td><td>51.022</td><td>-2.87</td><td>3.78</td><td>3.03</td></tr><tr><td>77022</td><td>65952</td><td>2023-12-01 00:00:17</td><td>51.44</td><td>-2.054</td><td>24.17</td><td>9.63</td></tr><tr><td>66667</td><td>57205</td><td>2023-12-01 00:00:27</td><td>51.438</td><td>-2.006</td><td>17.5</td><td>10.73</td></tr><tr><td>78947</td><td>72966</td><td>2023-12-01 00:00:33</td><td>51.47251</td><td>-2.599122</td><td>2.4</td><td>1.6</td></tr><tr><td>56255</td><td>57229</td><td>2023-12-01 00:00:41</td><td>51.432</td><td>-2.598</td><td>35.58</td><td>20.0</td></tr><tr><td>34457</td><td>20702</td><td>2023-12-01 00:00:56</td><td>51.850506</td><td>-2.245068</td><td>12.95</td><td>10.57</td></tr><tr><td>26044</td><td>13819</td><td>2023-12-01 00:00:57</td><td>51.442745</td><td>-2.593819</td><td>25.35</td><td>15.6</td></tr><tr><td>48987</td><td>34799</td><td>2023-12-01 00:01:03</td><td>51.44</td><td>-2.534</td><td>19.8</td><td>8.82</td></tr><tr><td>&hellip;</td><td>&hellip;</td><td>&hellip;</td><td>&hellip;</td><td>&hellip;</td><td>&hellip;</td><td>&hellip;</td></tr><tr><td>48881</td><td>57063</td><td>2023-12-31 23:58:35</td><td>51.406</td><td>-2.402</td><td>14.4</td><td>2.53</td></tr><tr><td>26044</td><td>13819</td><td>2023-12-31 23:58:42</td><td>51.442745</td><td>-2.593819</td><td>16.4</td><td>3.0</td></tr><tr><td>64397</td><td>50718</td><td>2023-12-31 23:58:45</td><td>51.880926</td><td>-2.054953</td><td>7.43</td><td>1.58</td></tr><tr><td>68597</td><td>55568</td><td>2023-12-31 23:59:03</td><td>51.037457</td><td>-2.829591</td><td>15.37</td><td>3.53</td></tr><tr><td>39950</td><td>25629</td><td>2023-12-31 23:59:05</td><td>51.444</td><td>-2.606</td><td>0.0</td><td>0.0</td></tr><tr><td>80332</td><td>69652</td><td>2023-12-31 23:59:08</td><td>51.864</td><td>-2.246</td><td>10.13</td><td>4.22</td></tr><tr><td>78947</td><td>72966</td><td>2023-12-31 23:59:09</td><td>51.47251</td><td>-2.599122</td><td>7.6</td><td>1.75</td></tr><tr><td>70369</td><td>57790</td><td>2023-12-31 23:59:09</td><td>51.356</td><td>-2.906</td><td>8.63</td><td>0.9</td></tr><tr><td>40575</td><td>26284</td><td>2023-12-31 23:59:14</td><td>51.71896</td><td>-2.184421</td><td>8.7</td><td>1.9</td></tr><tr><td>33862</td><td>20158</td><td>2023-12-31 23:59:16</td><td>51.436</td><td>-2.742</td><td>12.32</td><td>3.08</td></tr><tr><td>66970</td><td>53901</td><td>2023-12-31 23:59:50</td><td>51.466</td><td>-2.588</td><td>13.82</td><td>2.0</td></tr><tr><td>66700</td><td>73540</td><td>2023-12-31 23:59:58</td><td>51.02816</td><td>-2.86914</td><td>13.38</td><td>3.5</td></tr></tbody></table></div>"
      ],
      "text/plain": [
       "shape: (574_057, 7)\n",
       "┌───────────┬──────────┬─────────────────────┬──────────┬───────────┬───────┬───────┐\n",
       "│ sensor_id ┆ location ┆ timestamp           ┆ lat      ┆ lon       ┆ P1    ┆ P2    │\n",
       "│ ---       ┆ ---      ┆ ---                 ┆ ---      ┆ ---       ┆ ---   ┆ ---   │\n",
       "│ i64       ┆ i64      ┆ datetime[μs]        ┆ f64      ┆ f64       ┆ f64   ┆ f64   │\n",
       "╞═══════════╪══════════╪═════════════════════╪══════════╪═══════════╪═══════╪═══════╡\n",
       "│ 24147     ┆ 12309    ┆ 2023-12-01 00:00:05 ┆ 51.45    ┆ -2.624    ┆ 25.03 ┆ 9.87  │\n",
       "│ 10491     ┆ 5293     ┆ 2023-12-01 00:00:07 ┆ 51.464   ┆ -2.566    ┆ 18.03 ┆ 11.57 │\n",
       "│ 48881     ┆ 57063    ┆ 2023-12-01 00:00:10 ┆ 51.406   ┆ -2.402    ┆ 14.25 ┆ 7.82  │\n",
       "│ 7685      ┆ 3885     ┆ 2023-12-01 00:00:14 ┆ 51.474   ┆ -2.576    ┆ 0.8   ┆ 0.8   │\n",
       "│ …         ┆ …        ┆ …                   ┆ …        ┆ …         ┆ …     ┆ …     │\n",
       "│ 40575     ┆ 26284    ┆ 2023-12-31 23:59:14 ┆ 51.71896 ┆ -2.184421 ┆ 8.7   ┆ 1.9   │\n",
       "│ 33862     ┆ 20158    ┆ 2023-12-31 23:59:16 ┆ 51.436   ┆ -2.742    ┆ 12.32 ┆ 3.08  │\n",
       "│ 66970     ┆ 53901    ┆ 2023-12-31 23:59:50 ┆ 51.466   ┆ -2.588    ┆ 13.82 ┆ 2.0   │\n",
       "│ 66700     ┆ 73540    ┆ 2023-12-31 23:59:58 ┆ 51.02816 ┆ -2.86914  ┆ 13.38 ┆ 3.5   │\n",
       "└───────────┴──────────┴─────────────────────┴──────────┴───────────┴───────┴───────┘"
      ]
     },
     "execution_count": 21,
     "metadata": {},
     "output_type": "execute_result"
    }
   ],
   "source": [
    "(sds_bristol\n",
    " .with_columns(pl.col(pl.Utf8).cast(pl.Datetime))\n",
    " \n",
    " )"
   ]
  },
  {
   "cell_type": "code",
   "execution_count": null,
   "metadata": {},
   "outputs": [],
   "source": []
  },
  {
   "cell_type": "code",
   "execution_count": null,
   "metadata": {},
   "outputs": [],
   "source": [
    "final_df = (\n",
    "    pldf\n",
    "    .with_columns\n",
    ")"
   ]
  },
  {
   "cell_type": "code",
   "execution_count": null,
   "metadata": {},
   "outputs": [],
   "source": []
  },
  {
   "cell_type": "code",
   "execution_count": null,
   "metadata": {},
   "outputs": [],
   "source": []
  },
  {
   "cell_type": "code",
   "execution_count": null,
   "metadata": {},
   "outputs": [],
   "source": [
    "    # columns = {\n",
    "    # 'sensor_id': 'BIGINT',\n",
    "    # 'location': 'BIGINT',\n",
    "    # 'timestamp': 'TIMESTAMP',\n",
    "    # 'lat': 'REAL',\n",
    "    # 'lon': 'REAL',\n",
    "    # 'P1':'REAL',\n",
    "    # 'P2':'REAL'\n",
    "    # }"
   ]
  },
  {
   "cell_type": "code",
   "execution_count": 5,
   "metadata": {},
   "outputs": [
    {
     "name": "stdout",
     "output_type": "stream",
     "text": [
      "Rows: 574057\n",
      "Columns: 7\n",
      "$ sensor_id          <i64> 24147, 10491, 48881, 7685, 78664, 77022, 66667, 78947, 56255, 34457\n",
      "$ location           <i64> 12309, 5293, 57063, 3885, 67981, 65952, 57205, 72966, 57229, 20702\n",
      "$ timestamp <datetime[μs]> 2023-12-01 00:00:05, 2023-12-01 00:00:07, 2023-12-01 00:00:10, 2023-12-01 00:00:14, 2023-12-01 00:00:14, 2023-12-01 00:00:17, 2023-12-01 00:00:27, 2023-12-01 00:00:33, 2023-12-01 00:00:41, 2023-12-01 00:00:56\n",
      "$ lat                <f64> 51.45, 51.464, 51.406, 51.474, 51.022, 51.44, 51.438, 51.4725104, 51.432, 51.85050594\n",
      "$ lon                <f64> -2.624, -2.566, -2.402, -2.576, -2.87, -2.054, -2.006, -2.59912198, -2.598, -2.24506795\n",
      "$ P1                 <str> '25.03', '18.03', '14.25', '0.80', '3.78', '24.17', '17.50', '2.40', '35.58', '12.95'\n",
      "$ P2                 <str> '9.87', '11.57', '7.82', '0.80', '3.03', '9.63', '10.73', '1.60', '20.00', '10.57'\n",
      "\n"
     ]
    }
   ],
   "source": [
    "pldf.glimpse()"
   ]
  },
  {
   "cell_type": "code",
   "execution_count": 3,
   "metadata": {},
   "outputs": [],
   "source": [
    "lazy_qry = (pl.scan_csv(source='data/2023-12_sds011.csv',\n",
    "                  n_rows= 100000000,\n",
    "                  null_values = [' ', 'unavailable', 'unknown', 'b'],\n",
    "                  separator=';')\n",
    "                  .select(pl.col(['sensor_id', 'location', 'lat', 'lon', 'timestamp', 'P1', 'P2']))\n",
    "                #   .with_columns(pl.col(['lat', 'lon']).cast(pl.Float64),\n",
    "                #                 pl.col('timestamp').str.to_datetime(format = '%Y-%m-%dT%H:%M:%S'))\n",
    "                #    .filter([pl.col('lat').is_between(51, 52), pl.col('lon').is_between(-3, -1.9)])\n",
    "                #    .rename({\n",
    "                #        'P1':'PM10',\n",
    "                #        'P2':'PM2.5',\n",
    "                #        'timestamp':'datetime'\n",
    "                #    })\n",
    "                \n",
    "                  )"
   ]
  },
  {
   "cell_type": "code",
   "execution_count": 2,
   "metadata": {},
   "outputs": [],
   "source": [
    "reader = (pl.read_csv_batched(\n",
    "    'data/2023-12_sds011.csv',\n",
    "    null_values = [' ', 'unavailable', 'unknown', 'b'],\n",
    "    columns = ['sensor_id', 'location', 'lat', 'lon', 'timestamp', 'P1', 'P2'],\n",
    "    separator=';',\n",
    "    ignore_errors = True,\n",
    "    # dtypes = {\n",
    "    #                   'sensor_id': pl.Int64,\n",
    "    #                   'location': pl.Utf8,\n",
    "    #                   'lat':pl.Float64,\n",
    "    #                   'lon':pl.Float64,\n",
    "    #                   'timestamp':pl.Datetime,\n",
    "    #                   'P1':pl.Float64,\n",
    "    #                   'P2':pl.Float64\n",
    "    #               }\n",
    "    # try_parse_dates = True\n",
    "    )\n",
    " \n",
    ")"
   ]
  },
  {
   "cell_type": "code",
   "execution_count": 3,
   "metadata": {},
   "outputs": [],
   "source": [
    "batches = reader.next_batches(100)"
   ]
  },
  {
   "cell_type": "code",
   "execution_count": 5,
   "metadata": {},
   "outputs": [
    {
     "data": {
      "text/plain": [
       "100"
      ]
     },
     "execution_count": 5,
     "metadata": {},
     "output_type": "execute_result"
    }
   ],
   "source": [
    "len(batches)"
   ]
  },
  {
   "cell_type": "code",
   "execution_count": 13,
   "metadata": {},
   "outputs": [],
   "source": [
    "df_list = []\n",
    "while batches:\n",
    "    df_current_batches = pl.concat(batches)\n",
    "    df_list.append(df_current_batches)\n",
    "    batches = reader.next_batches(100)\n",
    "    \n",
    "    "
   ]
  },
  {
   "cell_type": "code",
   "execution_count": 14,
   "metadata": {},
   "outputs": [
    {
     "data": {
      "text/plain": [
       "[]"
      ]
     },
     "execution_count": 14,
     "metadata": {},
     "output_type": "execute_result"
    }
   ],
   "source": [
    "df_list"
   ]
  },
  {
   "cell_type": "code",
   "execution_count": 10,
   "metadata": {},
   "outputs": [
    {
     "name": "stdout",
     "output_type": "stream",
     "text": [
      "Rows: 50327703\n",
      "Columns: 7\n",
      "$ sensor_id <i64> 33756, 35558, 53080, 64777, 75993, 39874, 8887, 30876, 23578, 20020\n",
      "$ location  <i64> 62507, 21661, 51117, 51212, 64680, 73346, 4480, 17582, 11967, 10171\n",
      "$ lat       <f64> 51.7285344, 50.794, 52.710001, 42.4855289, 53.8, 52.53073404, 52.37, 48.15869432, 50.852, 42.694\n",
      "$ lon       <f64> 9.01158874, -1.066, 6.851716, 23.40718567, 9.988, 13.17634106, 9.748, 11.55006838, 4.4, 23.318\n",
      "$ timestamp <str> '2023-12-04T19:05:16', '2023-12-04T19:05:16', '2023-12-04T19:05:16', '2023-12-04T19:05:16', '2023-12-04T19:05:16', '2023-12-04T19:05:16', '2023-12-04T19:05:16', '2023-12-04T19:05:16', '2023-12-04T19:05:16', '2023-12-04T19:05:16'\n",
      "$ P1        <f64> 0.55, 0.6, 10.15, 10.5, 10.63, 10.73, 10.8, 11.3, 11.88, 1195.72\n",
      "$ P2        <f64> 0.32, 0.6, 4.25, 4.82, 4.43, 4.63, 7.68, 5.47, 6.45, 999.9\n",
      "\n"
     ]
    }
   ],
   "source": [
    "df.glimpse()"
   ]
  },
  {
   "cell_type": "code",
   "execution_count": 4,
   "metadata": {},
   "outputs": [
    {
     "ename": "",
     "evalue": "",
     "output_type": "error",
     "traceback": [
      "\u001b[1;31mThe Kernel crashed while executing code in the the current cell or a previous cell. Please review the code in the cell(s) to identify a possible cause of the failure. Click <a href='https://aka.ms/vscodeJupyterKernelCrash'>here</a> for more info. View Jupyter <a href='command:jupyter.viewOutput'>log</a> for further details."
     ]
    }
   ],
   "source": [
    "df = lazy_qry.collect() #crashes kernel"
   ]
  },
  {
   "cell_type": "code",
   "execution_count": 21,
   "metadata": {},
   "outputs": [
    {
     "name": "stdout",
     "output_type": "stream",
     "text": [
      "Rows: 27954\n",
      "Columns: 7\n",
      "$ sensor_id          <i64> 24147, 10491, 48881, 7685, 78664, 77022, 66667, 78947, 56255, 34457\n",
      "$ location           <i64> 12309, 5293, 57063, 3885, 67981, 65952, 57205, 72966, 57229, 20702\n",
      "$ lat                <f64> 51.45, 51.464, 51.406, 51.474, 51.022, 51.44, 51.438, 51.4725104, 51.432, 51.85050594\n",
      "$ lon                <f64> -2.624, -2.566, -2.402, -2.576, -2.87, -2.054, -2.006, -2.59912198, -2.598, -2.24506795\n",
      "$ datetime  <datetime[μs]> 2023-12-01 00:00:05, 2023-12-01 00:00:07, 2023-12-01 00:00:10, 2023-12-01 00:00:14, 2023-12-01 00:00:14, 2023-12-01 00:00:17, 2023-12-01 00:00:27, 2023-12-01 00:00:33, 2023-12-01 00:00:41, 2023-12-01 00:00:56\n",
      "$ PM10               <f64> 25.03, 18.03, 14.25, 0.8, 3.78, 24.17, 17.5, 2.4, 35.58, 12.95\n",
      "$ PM2.5              <f64> 9.87, 11.57, 7.82, 0.8, 3.03, 9.63, 10.73, 1.6, 20.0, 10.57\n",
      "\n"
     ]
    }
   ],
   "source": [
    "df.glimpse()"
   ]
  },
  {
   "cell_type": "code",
   "execution_count": null,
   "metadata": {},
   "outputs": [],
   "source": []
  },
  {
   "cell_type": "code",
   "execution_count": null,
   "metadata": {},
   "outputs": [],
   "source": []
  },
  {
   "cell_type": "code",
   "execution_count": null,
   "metadata": {},
   "outputs": [],
   "source": []
  },
  {
   "cell_type": "code",
   "execution_count": null,
   "metadata": {},
   "outputs": [],
   "source": []
  },
  {
   "cell_type": "code",
   "execution_count": null,
   "metadata": {},
   "outputs": [],
   "source": [
    " schema = {\n",
    "                      'sensor_id': pl.Int64,\n",
    "                      'location': pl.Utf8,\n",
    "                      'lat':pl.Float64,\n",
    "                      'lon':pl.Float64,\n",
    "                      'timestamp':pl.Datetime,\n",
    "                      'P1':pl.Float64,\n",
    "                      'P2':pl.Float64\n",
    "                  }\n"
   ]
  }
 ],
 "metadata": {
  "kernelspec": {
   "display_name": "Python 3",
   "language": "python",
   "name": "python3"
  },
  "language_info": {
   "codemirror_mode": {
    "name": "ipython",
    "version": 3
   },
   "file_extension": ".py",
   "mimetype": "text/x-python",
   "name": "python",
   "nbconvert_exporter": "python",
   "pygments_lexer": "ipython3",
   "version": "3.10.0"
  }
 },
 "nbformat": 4,
 "nbformat_minor": 2
}
